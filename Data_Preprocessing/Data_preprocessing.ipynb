{
 "cells": [
  {
   "cell_type": "markdown",
   "id": "53b78999",
   "metadata": {},
   "source": [
    "# Preprocessing Task"
   ]
  },
  {
   "cell_type": "markdown",
   "id": "48355bd5",
   "metadata": {},
   "source": [
    "- نفس عميق كوبايه شاي لان التاسك محتاجه مهندس بجد \n",
    "- هتلاقيني سايبلك الخرج بتاع كل سيل عشان لو عاوز تشيك علي حلك او تعرف الخرج بتاع كودك المفروض  شكله يبقي عامل ازاي \n",
    "- لو كودك صح ومطلع نتيجه مختلفه عن اللي انا مطلعها هراعي دا لا تقلق بس دي نادرا تحصل بس لو حصلت هيبقي خفيف وهراعي دا \n",
    "- التاسك دي هتنمي فيك مهاره السيرش يعني هتنميها ملهاش حل تاني \n",
    "### يلا بالتوفيق "
   ]
  },
  {
   "cell_type": "markdown",
   "id": "8d088395",
   "metadata": {},
   "source": [
    "# Importing\n"
   ]
  },
  {
   "cell_type": "code",
   "execution_count": 223,
   "id": "b31ca641",
   "metadata": {
    "ExecuteTime": {
     "end_time": "2025-02-23T01:18:31.110199400Z",
     "start_time": "2025-02-23T01:18:31.096677500Z"
    }
   },
   "outputs": [],
   "source": [
    "# Import Needed Libraries\n",
    "import numpy as np\n",
    "import pandas as pd"
   ]
  },
  {
   "cell_type": "code",
   "execution_count": 224,
   "id": "f6c0aaee",
   "metadata": {
    "ExecuteTime": {
     "end_time": "2025-02-23T01:18:31.453852900Z",
     "start_time": "2025-02-23T01:18:31.406503Z"
    }
   },
   "outputs": [
    {
     "data": {
      "text/plain": "   Id  MSSubClass MSZoning  LotFrontage  LotArea Street Alley LotShape  \\\n0   1          60       RL         65.0     8450   Pave   NaN      Reg   \n1   2          20       RL         80.0     9600   Pave   NaN      Reg   \n2   3          60       RL         68.0    11250   Pave   NaN      IR1   \n3   4          70       RL         60.0     9550   Pave   NaN      IR1   \n4   5          60       RL         84.0    14260   Pave   NaN      IR1   \n\n  LandContour Utilities  ... PoolArea PoolQC Fence MiscFeature MiscVal MoSold  \\\n0         Lvl    AllPub  ...        0    NaN   NaN         NaN       0      2   \n1         Lvl    AllPub  ...        0    NaN   NaN         NaN       0      5   \n2         Lvl    AllPub  ...        0    NaN   NaN         NaN       0      9   \n3         Lvl    AllPub  ...        0    NaN   NaN         NaN       0      2   \n4         Lvl    AllPub  ...        0    NaN   NaN         NaN       0     12   \n\n  YrSold  SaleType  SaleCondition  SalePrice  \n0   2008        WD         Normal     208500  \n1   2007        WD         Normal     181500  \n2   2008        WD         Normal     223500  \n3   2006        WD        Abnorml     140000  \n4   2008        WD         Normal     250000  \n\n[5 rows x 81 columns]",
      "text/html": "<div>\n<style scoped>\n    .dataframe tbody tr th:only-of-type {\n        vertical-align: middle;\n    }\n\n    .dataframe tbody tr th {\n        vertical-align: top;\n    }\n\n    .dataframe thead th {\n        text-align: right;\n    }\n</style>\n<table border=\"1\" class=\"dataframe\">\n  <thead>\n    <tr style=\"text-align: right;\">\n      <th></th>\n      <th>Id</th>\n      <th>MSSubClass</th>\n      <th>MSZoning</th>\n      <th>LotFrontage</th>\n      <th>LotArea</th>\n      <th>Street</th>\n      <th>Alley</th>\n      <th>LotShape</th>\n      <th>LandContour</th>\n      <th>Utilities</th>\n      <th>...</th>\n      <th>PoolArea</th>\n      <th>PoolQC</th>\n      <th>Fence</th>\n      <th>MiscFeature</th>\n      <th>MiscVal</th>\n      <th>MoSold</th>\n      <th>YrSold</th>\n      <th>SaleType</th>\n      <th>SaleCondition</th>\n      <th>SalePrice</th>\n    </tr>\n  </thead>\n  <tbody>\n    <tr>\n      <th>0</th>\n      <td>1</td>\n      <td>60</td>\n      <td>RL</td>\n      <td>65.0</td>\n      <td>8450</td>\n      <td>Pave</td>\n      <td>NaN</td>\n      <td>Reg</td>\n      <td>Lvl</td>\n      <td>AllPub</td>\n      <td>...</td>\n      <td>0</td>\n      <td>NaN</td>\n      <td>NaN</td>\n      <td>NaN</td>\n      <td>0</td>\n      <td>2</td>\n      <td>2008</td>\n      <td>WD</td>\n      <td>Normal</td>\n      <td>208500</td>\n    </tr>\n    <tr>\n      <th>1</th>\n      <td>2</td>\n      <td>20</td>\n      <td>RL</td>\n      <td>80.0</td>\n      <td>9600</td>\n      <td>Pave</td>\n      <td>NaN</td>\n      <td>Reg</td>\n      <td>Lvl</td>\n      <td>AllPub</td>\n      <td>...</td>\n      <td>0</td>\n      <td>NaN</td>\n      <td>NaN</td>\n      <td>NaN</td>\n      <td>0</td>\n      <td>5</td>\n      <td>2007</td>\n      <td>WD</td>\n      <td>Normal</td>\n      <td>181500</td>\n    </tr>\n    <tr>\n      <th>2</th>\n      <td>3</td>\n      <td>60</td>\n      <td>RL</td>\n      <td>68.0</td>\n      <td>11250</td>\n      <td>Pave</td>\n      <td>NaN</td>\n      <td>IR1</td>\n      <td>Lvl</td>\n      <td>AllPub</td>\n      <td>...</td>\n      <td>0</td>\n      <td>NaN</td>\n      <td>NaN</td>\n      <td>NaN</td>\n      <td>0</td>\n      <td>9</td>\n      <td>2008</td>\n      <td>WD</td>\n      <td>Normal</td>\n      <td>223500</td>\n    </tr>\n    <tr>\n      <th>3</th>\n      <td>4</td>\n      <td>70</td>\n      <td>RL</td>\n      <td>60.0</td>\n      <td>9550</td>\n      <td>Pave</td>\n      <td>NaN</td>\n      <td>IR1</td>\n      <td>Lvl</td>\n      <td>AllPub</td>\n      <td>...</td>\n      <td>0</td>\n      <td>NaN</td>\n      <td>NaN</td>\n      <td>NaN</td>\n      <td>0</td>\n      <td>2</td>\n      <td>2006</td>\n      <td>WD</td>\n      <td>Abnorml</td>\n      <td>140000</td>\n    </tr>\n    <tr>\n      <th>4</th>\n      <td>5</td>\n      <td>60</td>\n      <td>RL</td>\n      <td>84.0</td>\n      <td>14260</td>\n      <td>Pave</td>\n      <td>NaN</td>\n      <td>IR1</td>\n      <td>Lvl</td>\n      <td>AllPub</td>\n      <td>...</td>\n      <td>0</td>\n      <td>NaN</td>\n      <td>NaN</td>\n      <td>NaN</td>\n      <td>0</td>\n      <td>12</td>\n      <td>2008</td>\n      <td>WD</td>\n      <td>Normal</td>\n      <td>250000</td>\n    </tr>\n  </tbody>\n</table>\n<p>5 rows × 81 columns</p>\n</div>"
     },
     "execution_count": 224,
     "metadata": {},
     "output_type": "execute_result"
    }
   ],
   "source": [
    "# Read data and show first 5 rows \n",
    "data = pd.read_csv('house_prices.csv')\n",
    "data.head()"
   ]
  },
  {
   "cell_type": "code",
   "execution_count": 225,
   "id": "83d2c871",
   "metadata": {
    "ExecuteTime": {
     "end_time": "2025-02-23T01:18:31.753325300Z",
     "start_time": "2025-02-23T01:18:31.741468600Z"
    }
   },
   "outputs": [
    {
     "data": {
      "text/plain": "(1460, 81)"
     },
     "execution_count": 225,
     "metadata": {},
     "output_type": "execute_result"
    }
   ],
   "source": [
    "# Data Shape ?\n",
    "data.shape"
   ]
  },
  {
   "cell_type": "code",
   "execution_count": 226,
   "id": "59839317",
   "metadata": {
    "scrolled": true,
    "ExecuteTime": {
     "end_time": "2025-02-23T01:18:32.164794900Z",
     "start_time": "2025-02-23T01:18:32.153059600Z"
    }
   },
   "outputs": [
    {
     "name": "stdout",
     "output_type": "stream",
     "text": [
      "<class 'pandas.core.frame.DataFrame'>\n",
      "RangeIndex: 1460 entries, 0 to 1459\n",
      "Data columns (total 81 columns):\n",
      " #   Column         Non-Null Count  Dtype  \n",
      "---  ------         --------------  -----  \n",
      " 0   Id             1460 non-null   int64  \n",
      " 1   MSSubClass     1460 non-null   int64  \n",
      " 2   MSZoning       1460 non-null   object \n",
      " 3   LotFrontage    1201 non-null   float64\n",
      " 4   LotArea        1460 non-null   int64  \n",
      " 5   Street         1460 non-null   object \n",
      " 6   Alley          91 non-null     object \n",
      " 7   LotShape       1460 non-null   object \n",
      " 8   LandContour    1460 non-null   object \n",
      " 9   Utilities      1460 non-null   object \n",
      " 10  LotConfig      1460 non-null   object \n",
      " 11  LandSlope      1460 non-null   object \n",
      " 12  Neighborhood   1460 non-null   object \n",
      " 13  Condition1     1460 non-null   object \n",
      " 14  Condition2     1460 non-null   object \n",
      " 15  BldgType       1460 non-null   object \n",
      " 16  HouseStyle     1460 non-null   object \n",
      " 17  OverallQual    1460 non-null   int64  \n",
      " 18  OverallCond    1460 non-null   int64  \n",
      " 19  YearBuilt      1460 non-null   int64  \n",
      " 20  YearRemodAdd   1460 non-null   int64  \n",
      " 21  RoofStyle      1460 non-null   object \n",
      " 22  RoofMatl       1460 non-null   object \n",
      " 23  Exterior1st    1460 non-null   object \n",
      " 24  Exterior2nd    1460 non-null   object \n",
      " 25  MasVnrType     588 non-null    object \n",
      " 26  MasVnrArea     1452 non-null   float64\n",
      " 27  ExterQual      1460 non-null   object \n",
      " 28  ExterCond      1460 non-null   object \n",
      " 29  Foundation     1460 non-null   object \n",
      " 30  BsmtQual       1423 non-null   object \n",
      " 31  BsmtCond       1423 non-null   object \n",
      " 32  BsmtExposure   1422 non-null   object \n",
      " 33  BsmtFinType1   1423 non-null   object \n",
      " 34  BsmtFinSF1     1460 non-null   int64  \n",
      " 35  BsmtFinType2   1422 non-null   object \n",
      " 36  BsmtFinSF2     1460 non-null   int64  \n",
      " 37  BsmtUnfSF      1460 non-null   int64  \n",
      " 38  TotalBsmtSF    1460 non-null   int64  \n",
      " 39  Heating        1460 non-null   object \n",
      " 40  HeatingQC      1460 non-null   object \n",
      " 41  CentralAir     1460 non-null   object \n",
      " 42  Electrical     1459 non-null   object \n",
      " 43  1stFlrSF       1460 non-null   int64  \n",
      " 44  2ndFlrSF       1460 non-null   int64  \n",
      " 45  LowQualFinSF   1460 non-null   int64  \n",
      " 46  GrLivArea      1460 non-null   int64  \n",
      " 47  BsmtFullBath   1460 non-null   int64  \n",
      " 48  BsmtHalfBath   1460 non-null   int64  \n",
      " 49  FullBath       1460 non-null   int64  \n",
      " 50  HalfBath       1460 non-null   int64  \n",
      " 51  BedroomAbvGr   1460 non-null   int64  \n",
      " 52  KitchenAbvGr   1460 non-null   int64  \n",
      " 53  KitchenQual    1460 non-null   object \n",
      " 54  TotRmsAbvGrd   1460 non-null   int64  \n",
      " 55  Functional     1460 non-null   object \n",
      " 56  Fireplaces     1460 non-null   int64  \n",
      " 57  FireplaceQu    770 non-null    object \n",
      " 58  GarageType     1379 non-null   object \n",
      " 59  GarageYrBlt    1379 non-null   float64\n",
      " 60  GarageFinish   1379 non-null   object \n",
      " 61  GarageCars     1460 non-null   int64  \n",
      " 62  GarageArea     1460 non-null   int64  \n",
      " 63  GarageQual     1379 non-null   object \n",
      " 64  GarageCond     1379 non-null   object \n",
      " 65  PavedDrive     1460 non-null   object \n",
      " 66  WoodDeckSF     1460 non-null   int64  \n",
      " 67  OpenPorchSF    1460 non-null   int64  \n",
      " 68  EnclosedPorch  1460 non-null   int64  \n",
      " 69  3SsnPorch      1460 non-null   int64  \n",
      " 70  ScreenPorch    1460 non-null   int64  \n",
      " 71  PoolArea       1460 non-null   int64  \n",
      " 72  PoolQC         7 non-null      object \n",
      " 73  Fence          281 non-null    object \n",
      " 74  MiscFeature    54 non-null     object \n",
      " 75  MiscVal        1460 non-null   int64  \n",
      " 76  MoSold         1460 non-null   int64  \n",
      " 77  YrSold         1460 non-null   int64  \n",
      " 78  SaleType       1460 non-null   object \n",
      " 79  SaleCondition  1460 non-null   object \n",
      " 80  SalePrice      1460 non-null   int64  \n",
      "dtypes: float64(3), int64(35), object(43)\n",
      "memory usage: 924.0+ KB\n"
     ]
    }
   ],
   "source": [
    "# Data Info (Data Type of Each column) ?\n",
    "data.info()\n"
   ]
  },
  {
   "cell_type": "markdown",
   "id": "930bdc58",
   "metadata": {},
   "source": [
    "# Handle Null Values"
   ]
  },
  {
   "cell_type": "code",
   "execution_count": 227,
   "id": "b2366952",
   "metadata": {
    "ExecuteTime": {
     "end_time": "2025-02-23T01:18:32.939573400Z",
     "start_time": "2025-02-23T01:18:32.932686700Z"
    }
   },
   "outputs": [
    {
     "name": "stdout",
     "output_type": "stream",
     "text": [
      "#Num_cols 38\n",
      "#Cat_cols 43\n"
     ]
    }
   ],
   "source": [
    "# what the number of Numurical and Categorical Columns ?\n",
    "numerical_columns = data.select_dtypes(include=['number']).columns\n",
    "categorical_columns = data.select_dtypes(include=['object', 'category']).columns\n",
    "\n",
    "print(f\"#Num_cols {len(numerical_columns)}\")\n",
    "print(f\"#Cat_cols {len(categorical_columns)}\")"
   ]
  },
  {
   "cell_type": "markdown",
   "id": "15103ad6",
   "metadata": {},
   "source": [
    "- <b> features to be removed ---> 80%  is nan \n",
    "- <b> features to filled --------> less than 80 % \n",
    "- <b> observation to be removed --> less than 3% "
   ]
  },
  {
   "cell_type": "code",
   "execution_count": 228,
   "id": "c51297d9",
   "metadata": {
    "ExecuteTime": {
     "end_time": "2025-02-23T01:18:33.756877500Z",
     "start_time": "2025-02-23T01:18:33.734213200Z"
    }
   },
   "outputs": [
    {
     "name": "stdout",
     "output_type": "stream",
     "text": [
      "              count\n",
      "PoolQC         1453\n",
      "MiscFeature    1406\n",
      "Alley          1369\n",
      "Fence          1179\n",
      "MasVnrType      872\n",
      "FireplaceQu     690\n",
      "LotFrontage     259\n",
      "GarageType       81\n",
      "GarageYrBlt      81\n",
      "GarageFinish     81\n",
      "GarageQual       81\n",
      "GarageCond       81\n",
      "BsmtExposure     38\n",
      "BsmtFinType2     38\n",
      "BsmtQual         37\n",
      "BsmtCond         37\n",
      "BsmtFinType1     37\n",
      "MasVnrArea        8\n",
      "Electrical        1\n",
      "Dropped columns: ['Alley', 'PoolQC', 'Fence', 'MiscFeature']\n",
      "Filled columns: ['LotFrontage', 'MasVnrType', 'FireplaceQu', 'GarageType', 'GarageYrBlt', 'GarageFinish', 'GarageQual', 'GarageCond']\n",
      "Dropped rows: ['Id', 'MSSubClass', 'MSZoning', 'LotArea', 'Street', 'LotShape', 'LandContour', 'Utilities', 'LotConfig', 'LandSlope', 'Neighborhood', 'Condition1', 'Condition2', 'BldgType', 'HouseStyle', 'OverallQual', 'OverallCond', 'YearBuilt', 'YearRemodAdd', 'RoofStyle', 'RoofMatl', 'Exterior1st', 'Exterior2nd', 'MasVnrArea', 'ExterQual', 'ExterCond', 'Foundation', 'BsmtQual', 'BsmtCond', 'BsmtExposure', 'BsmtFinType1', 'BsmtFinSF1', 'BsmtFinType2', 'BsmtFinSF2', 'BsmtUnfSF', 'TotalBsmtSF', 'Heating', 'HeatingQC', 'CentralAir', 'Electrical', '1stFlrSF', '2ndFlrSF', 'LowQualFinSF', 'GrLivArea', 'BsmtFullBath', 'BsmtHalfBath', 'FullBath', 'HalfBath', 'BedroomAbvGr', 'KitchenAbvGr', 'KitchenQual', 'TotRmsAbvGrd', 'Functional', 'Fireplaces', 'GarageCars', 'GarageArea', 'PavedDrive', 'WoodDeckSF', 'OpenPorchSF', 'EnclosedPorch', '3SsnPorch', 'ScreenPorch', 'PoolArea', 'MiscVal', 'MoSold', 'YrSold', 'SaleType', 'SaleCondition', 'SalePrice']\n"
     ]
    }
   ],
   "source": [
    "# write function calculate the number of null values in each Feature (column) and \n",
    "# if null count is > 3% and < 80%  fill it by mean \n",
    "# if null count is < 3% remove this row that contain this null value \n",
    "\n",
    "def handle_null_values(df):\n",
    "    null_counts = df.isnull().sum()\n",
    "    null_percentage = data.isnull().mean() * 100\n",
    "    \n",
    "# Feature has 80% or higher null values drop Feature\n",
    "    dropped_columns = null_percentage[null_percentage >= 80].index.tolist()\n",
    "    df.drop(columns=dropped_columns, inplace=True)\n",
    "    \n",
    "# if null count is > 3% and < 80%  fill it by mean \n",
    "    filled_columns = null_percentage[(null_percentage > 3) & (null_percentage < 80)].index.tolist()\n",
    "    for col in filled_columns:\n",
    "        if pd.api.types.is_numeric_dtype(df[col]):\n",
    "            df[col] = df[col].fillna(df[col].mean())\n",
    "            \n",
    "# if null count is < 3% remove this row that contain this null value  \n",
    "    dropped_rows = null_percentage[null_percentage <= 3].index.tolist()\n",
    "    df.dropna(subset=dropped_rows, inplace=True)\n",
    "\n",
    "    summary = pd.DataFrame({\n",
    "        'count': null_counts[null_counts > 0]\n",
    "    }).sort_values(by='count', ascending=False)\n",
    "    \n",
    "    print(summary)\n",
    "    \n",
    "    print(f\"Dropped columns: {dropped_columns}\")\n",
    "    print(f\"Filled columns: {filled_columns}\")\n",
    "    print(f\"Dropped rows: {dropped_rows}\")\n",
    "    \n",
    "    return df\n",
    "\n",
    "cleaned_data = handle_null_values(data)\n"
   ]
  },
  {
   "cell_type": "markdown",
   "id": "a2d1ccfd",
   "metadata": {},
   "source": [
    "# Redundant Handling"
   ]
  },
  {
   "cell_type": "markdown",
   "id": "7df40492",
   "metadata": {},
   "source": [
    "### Automated function for both categorical and numircal data"
   ]
  },
  {
   "cell_type": "code",
   "execution_count": 229,
   "id": "1da8a3cb",
   "metadata": {
    "scrolled": true,
    "ExecuteTime": {
     "end_time": "2025-02-23T01:18:34.799887200Z",
     "start_time": "2025-02-23T01:18:34.768756700Z"
    }
   },
   "outputs": [
    {
     "name": "stdout",
     "output_type": "stream",
     "text": [
      "Id: 1\n",
      "MSSubClass: 515\n",
      "MSZoning: 1111\n",
      "LotFrontage: 251\n",
      "LotArea: 24\n",
      "Street: 1406\n",
      "LotShape: 886\n",
      "LandContour: 1267\n",
      "Utilities: 1411\n",
      "LotConfig: 1015\n",
      "LandSlope: 1335\n",
      "Neighborhood: 215\n",
      "Condition1: 1220\n",
      "Condition2: 1397\n",
      "BldgType: 1189\n",
      "HouseStyle: 693\n",
      "OverallQual: 381\n",
      "OverallCond: 792\n",
      "YearBuilt: 64\n",
      "YearRemodAdd: 165\n",
      "RoofStyle: 1103\n",
      "RoofMatl: 1387\n",
      "Exterior1st: 501\n",
      "Exterior2nd: 491\n",
      "MasVnrType: 438\n",
      "MasVnrArea: 828\n",
      "ExterQual: 871\n",
      "ExterCond: 1239\n",
      "Foundation: 633\n",
      "BsmtQual: 648\n",
      "BsmtCond: 1301\n",
      "BsmtExposure: 944\n",
      "BsmtFinType1: 426\n",
      "BsmtFinSF1: 426\n",
      "BsmtFinType2: 1246\n",
      "BsmtFinSF2: 1246\n",
      "BsmtUnfSF: 81\n",
      "TotalBsmtSF: 35\n",
      "Heating: 1386\n",
      "HeatingQC: 725\n",
      "CentralAir: 1331\n",
      "Electrical: 1300\n",
      "1stFlrSF: 25\n",
      "2ndFlrSF: 796\n",
      "LowQualFinSF: 1387\n",
      "GrLivArea: 22\n",
      "BsmtFullBath: 815\n",
      "BsmtHalfBath: 1330\n",
      "FullBath: 738\n",
      "HalfBath: 872\n",
      "BedroomAbvGr: 790\n",
      "KitchenAbvGr: 1361\n",
      "KitchenQual: 705\n",
      "TotRmsAbvGrd: 393\n",
      "Functional: 1322\n",
      "Fireplaces: 657\n",
      "FireplaceQu: 373\n",
      "GarageType: 852\n",
      "GarageYrBlt: 74\n",
      "GarageFinish: 580\n",
      "GarageCars: 793\n",
      "GarageArea: 74\n",
      "GarageQual: 1270\n",
      "GarageCond: 1287\n",
      "PavedDrive: 1303\n",
      "WoodDeckSF: 723\n",
      "OpenPorchSF: 623\n",
      "EnclosedPorch: 1209\n",
      "3SsnPorch: 1389\n",
      "ScreenPorch: 1296\n",
      "PoolArea: 1405\n",
      "MiscVal: 1363\n",
      "MoSold: 244\n",
      "YrSold: 323\n",
      "SaleType: 1224\n",
      "SaleCondition: 1159\n",
      "SalePrice: 20\n"
     ]
    }
   ],
   "source": [
    "# write function to calculate the most redundant value in each column how many it repeated ?\n",
    "\n",
    "def most_redundant_values(df):\n",
    "    results = {}\n",
    "\n",
    "    for col in df.columns:\n",
    "        mode_values = df[col].mode()\n",
    "        most_redundant_value = mode_values[0]\n",
    "        count = (df[col] == most_redundant_value).sum()\n",
    "        results[col] = count\n",
    "        \n",
    "    return results\n",
    "\n",
    "\n",
    "results = most_redundant_values(data)\n",
    "for key, value in results.items():\n",
    "        print(f\"{key}: {value}\")"
   ]
  },
  {
   "cell_type": "code",
   "execution_count": 230,
   "id": "6e82743f",
   "metadata": {
    "scrolled": true,
    "ExecuteTime": {
     "end_time": "2025-02-23T01:18:35.168933500Z",
     "start_time": "2025-02-23T01:18:35.128557100Z"
    }
   },
   "outputs": [
    {
     "name": "stdout",
     "output_type": "stream",
     "text": [
      "#drop 29\n",
      "Dropped columns: ['Street', 'LandContour', 'Utilities', 'LandSlope', 'Condition1', 'Condition2', 'BldgType', 'RoofMatl', 'ExterCond', 'BsmtCond', 'BsmtFinType2', 'BsmtFinSF2', 'Heating', 'CentralAir', 'Electrical', 'LowQualFinSF', 'BsmtHalfBath', 'KitchenAbvGr', 'Functional', 'GarageQual', 'GarageCond', 'PavedDrive', 'EnclosedPorch', '3SsnPorch', 'ScreenPorch', 'PoolArea', 'MiscVal', 'SaleType', 'SaleCondition']\n"
     ]
    }
   ],
   "source": [
    "# if it repeated more than or equal 80% from data rows count remove the feature \n",
    "# Data row count = data.shape[0]\n",
    "def redundant_values_to_drop(df, most_redundant_values):\n",
    "    rows_count = df.shape[0]\n",
    "    threshold = 0.8 * rows_count\n",
    "    \n",
    "    columns_to_remove = []\n",
    "\n",
    "    for key, value in most_redundant_values.items():\n",
    "        if value >= threshold:\n",
    "            columns_to_remove.append(key)\n",
    "            \n",
    "    df.drop(columns=columns_to_remove, inplace=True)\n",
    "    \n",
    "    print(f\"#drop {len(columns_to_remove)}\")\n",
    "    print(f\"Dropped columns: {columns_to_remove}\")\n",
    "    \n",
    "    \n",
    "results = most_redundant_values(data)\n",
    "redundant_values_to_drop(data, results)"
   ]
  },
  {
   "cell_type": "markdown",
   "id": "3e781327",
   "metadata": {},
   "source": [
    "# Handling correlation between features"
   ]
  },
  {
   "cell_type": "code",
   "execution_count": 231,
   "id": "3b412d30",
   "metadata": {
    "scrolled": true,
    "ExecuteTime": {
     "end_time": "2025-02-23T01:18:35.920388900Z",
     "start_time": "2025-02-23T01:18:35.880334500Z"
    }
   },
   "outputs": [
    {
     "data": {
      "text/plain": "                    Id  MSSubClass  LotFrontage   LotArea  OverallQual  \\\nId            1.000000    0.010816    -0.012445 -0.034357    -0.031729   \nMSSubClass    0.010816    1.000000    -0.360014 -0.138298     0.038952   \nLotFrontage  -0.012445   -0.360014     1.000000  0.305272     0.232351   \nLotArea      -0.034357   -0.138298     0.305272  1.000000     0.104763   \nOverallQual  -0.031729    0.038952     0.232351  0.104763     1.000000   \nOverallCond   0.017332   -0.063240    -0.054635 -0.002941    -0.121155   \nYearBuilt    -0.016396    0.032256     0.114914  0.014163     0.570266   \nYearRemodAdd -0.023834    0.043906     0.078828  0.010765     0.540129   \nMasVnrArea   -0.047418    0.023024     0.179330  0.104010     0.409656   \nBsmtFinSF1   -0.005680   -0.067783     0.215487  0.213450     0.211652   \nBsmtUnfSF    -0.007737   -0.139572     0.116354 -0.008757     0.278239   \nTotalBsmtSF  -0.016215   -0.253332     0.384911  0.275637     0.509473   \n1stFlrSF      0.008686   -0.254277     0.416546  0.296342     0.486418   \n2ndFlrSF      0.005392    0.306522     0.073486  0.052246     0.291858   \nGrLivArea     0.006616    0.073167     0.369118  0.260524     0.594985   \nBsmtFullBath  0.002428    0.007005     0.089212  0.157024     0.082932   \nFullBath      0.005957    0.121525     0.182111  0.124752     0.576543   \nHalfBath      0.002979    0.181273     0.046548  0.013808     0.256616   \nBedroomAbvGr  0.039598   -0.031432     0.240053  0.119153     0.096722   \nTotRmsAbvGrd  0.026706    0.030657     0.323671  0.189107     0.438254   \nFireplaces   -0.017027   -0.040128     0.235190  0.268960     0.392978   \nGarageYrBlt  -0.003015    0.077805     0.061672 -0.025509     0.518553   \nGarageCars    0.016094   -0.034897     0.269574  0.153812     0.607663   \nGarageArea    0.018983   -0.094523     0.324954  0.180207     0.561612   \nWoodDeckSF   -0.029800   -0.014568     0.075353  0.172281     0.230274   \nOpenPorchSF  -0.005046   -0.005684     0.134402  0.083860     0.297678   \nMoSold        0.026508   -0.016463     0.005484  0.001070     0.064301   \nYrSold       -0.004209   -0.026526     0.006464 -0.012886    -0.024251   \nSalePrice    -0.024651   -0.082281     0.333477  0.264803     0.786765   \n\n              OverallCond  YearBuilt  YearRemodAdd  MasVnrArea  BsmtFinSF1  \\\nId               0.017332  -0.016396     -0.023834   -0.047418   -0.005680   \nMSSubClass      -0.063240   0.032256      0.043906    0.023024   -0.067783   \nLotFrontage     -0.054635   0.114914      0.078828    0.179330    0.215487   \nLotArea         -0.002941   0.014163      0.010765    0.104010    0.213450   \nOverallQual     -0.121155   0.570266      0.540129    0.409656    0.211652   \nOverallCond      1.000000  -0.389624      0.057361   -0.134961   -0.057034   \nYearBuilt       -0.389624   1.000000      0.593163    0.311745    0.242714   \nYearRemodAdd     0.057361   0.593163      1.000000    0.172112    0.110541   \nMasVnrArea      -0.134961   0.311745      0.172112    1.000000    0.259291   \nBsmtFinSF1      -0.057034   0.242714      0.110541    0.259291    1.000000   \nBsmtUnfSF       -0.159769   0.136097      0.159275    0.103094   -0.551475   \nTotalBsmtSF     -0.221992   0.398561      0.265707    0.371677    0.504307   \n1stFlrSF        -0.145056   0.283967      0.244458    0.348471    0.449253   \n2ndFlrSF         0.022496   0.001651      0.131614    0.170468   -0.146842   \nGrLivArea       -0.085187   0.191592      0.282058    0.389884    0.200188   \nBsmtFullBath    -0.064559   0.179642      0.103877    0.077607    0.639301   \nFullBath        -0.190209   0.474767      0.454840    0.277278    0.060432   \nHalfBath        -0.072977   0.233529      0.168525    0.197999   -0.015215   \nBedroomAbvGr     0.016070  -0.080611     -0.050080    0.101925   -0.110303   \nTotRmsAbvGrd    -0.058852   0.091792      0.189216    0.283266    0.043425   \nFireplaces      -0.030047   0.143433      0.100277    0.241914    0.250394   \nGarageYrBlt     -0.318041   0.782055      0.619550    0.247561    0.141906   \nGarageCars      -0.193904   0.536963      0.423161    0.363992    0.215661   \nGarageArea      -0.163341   0.475678      0.369665    0.370982    0.288913   \nWoodDeckSF      -0.013206   0.225469      0.199144    0.157566    0.196236   \nOpenPorchSF     -0.041823   0.185426      0.218889    0.124018    0.098352   \nMoSold          -0.008530   0.008403      0.015944   -0.009909   -0.020850   \nYrSold           0.048668  -0.014693      0.029968   -0.005249    0.020268   \nSalePrice       -0.093567   0.518736      0.500266    0.474525    0.368849   \n\n              ...  TotRmsAbvGrd  Fireplaces  GarageYrBlt  GarageCars  \\\nId            ...      0.026706   -0.017027    -0.003015    0.016094   \nMSSubClass    ...      0.030657   -0.040128     0.077805   -0.034897   \nLotFrontage   ...      0.323671    0.235190     0.061672    0.269574   \nLotArea       ...      0.189107    0.268960    -0.025509    0.153812   \nOverallQual   ...      0.438254    0.392978     0.518553    0.607663   \nOverallCond   ...     -0.058852   -0.030047    -0.318041   -0.193904   \nYearBuilt     ...      0.091792    0.143433     0.782055    0.536963   \nYearRemodAdd  ...      0.189216    0.100277     0.619550    0.423161   \nMasVnrArea    ...      0.283266    0.241914     0.247561    0.363992   \nBsmtFinSF1    ...      0.043425    0.250394     0.141906    0.215661   \nBsmtUnfSF     ...      0.258237    0.034840     0.176708    0.204255   \nTotalBsmtSF   ...      0.313035    0.336714     0.313682    0.445240   \n1stFlrSF      ...      0.404941    0.409462     0.232545    0.438976   \n2ndFlrSF      ...      0.624663    0.191156     0.059206    0.185609   \nGrLivArea     ...      0.827693    0.456052     0.216442    0.466083   \nBsmtFullBath  ...     -0.057328    0.125861     0.111539    0.122583   \nFullBath      ...      0.555163    0.246986     0.470524    0.477142   \nHalfBath      ...      0.352956    0.198347     0.182232    0.214780   \nBedroomAbvGr  ...      0.669181    0.099368    -0.066865    0.084165   \nTotRmsAbvGrd  ...      1.000000    0.324268     0.141825    0.364135   \nFireplaces    ...      0.324268    1.000000     0.039011    0.300632   \nGarageYrBlt   ...      0.141825    0.039011     1.000000    0.489577   \nGarageCars    ...      0.364135    0.300632     0.489577    1.000000   \nGarageArea    ...      0.341006    0.264652     0.480758    0.880618   \nWoodDeckSF    ...      0.164481    0.194283     0.220414    0.228394   \nOpenPorchSF   ...      0.243512    0.165487     0.211320    0.211619   \nMoSold        ...      0.037443    0.048784     0.002400    0.033566   \nYrSold        ...     -0.047586   -0.020645    -0.002887   -0.037235   \nSalePrice     ...      0.545540    0.462937     0.467009    0.641825   \n\n              GarageArea  WoodDeckSF  OpenPorchSF    MoSold    YrSold  \\\nId              0.018983   -0.029800    -0.005046  0.026508 -0.004209   \nMSSubClass     -0.094523   -0.014568    -0.005684 -0.016463 -0.026526   \nLotFrontage     0.324954    0.075353     0.134402  0.005484  0.006464   \nLotArea         0.180207    0.172281     0.083860  0.001070 -0.012886   \nOverallQual     0.561612    0.230274     0.297678  0.064301 -0.024251   \nOverallCond    -0.163341   -0.013206    -0.041823 -0.008530  0.048668   \nYearBuilt       0.475678    0.225469     0.185426  0.008403 -0.014693   \nYearRemodAdd    0.369665    0.199144     0.218889  0.015944  0.029968   \nMasVnrArea      0.370982    0.157566     0.124018 -0.009909 -0.005249   \nBsmtFinSF1      0.288913    0.196236     0.098352 -0.020850  0.020268   \nBsmtUnfSF       0.170188   -0.022720     0.118343  0.031132 -0.036388   \nTotalBsmtSF     0.498678    0.222698     0.239398  0.002725 -0.003652   \n1stFlrSF        0.493446    0.243118     0.213282  0.024335 -0.010113   \n2ndFlrSF        0.135449    0.082770     0.206436  0.041707 -0.033961   \nGrLivArea       0.466754    0.243955     0.329026  0.050364 -0.038223   \nBsmtFullBath    0.169651    0.167384     0.055204 -0.028996  0.071713   \nFullBath        0.412022    0.195331     0.267207  0.059877 -0.026478   \nHalfBath        0.156993    0.096899     0.190067 -0.007592 -0.005113   \nBedroomAbvGr    0.063031    0.042391     0.103261  0.051262 -0.053852   \nTotRmsAbvGrd    0.341006    0.164481     0.243512  0.037443 -0.047586   \nFireplaces      0.264652    0.194283     0.165487  0.048784 -0.020645   \nGarageYrBlt     0.480758    0.220414     0.211320  0.002400 -0.002887   \nGarageCars      0.880618    0.228394     0.211619  0.033566 -0.037235   \nGarageArea      1.000000    0.225518     0.237539  0.020616 -0.024710   \nWoodDeckSF      0.225518    1.000000     0.049607  0.024436  0.025488   \nOpenPorchSF     0.237539    0.049607     1.000000  0.069473 -0.050484   \nMoSold          0.020616    0.024436     0.069473  1.000000 -0.148464   \nYrSold         -0.024710    0.025488    -0.050484 -0.148464  1.000000   \nSalePrice       0.621095    0.317361     0.304972  0.041754 -0.023361   \n\n              SalePrice  \nId            -0.024651  \nMSSubClass    -0.082281  \nLotFrontage    0.333477  \nLotArea        0.264803  \nOverallQual    0.786765  \nOverallCond   -0.093567  \nYearBuilt      0.518736  \nYearRemodAdd   0.500266  \nMasVnrArea     0.474525  \nBsmtFinSF1     0.368849  \nBsmtUnfSF      0.188959  \nTotalBsmtSF    0.611084  \n1stFlrSF       0.614753  \n2ndFlrSF       0.317948  \nGrLivArea      0.711080  \nBsmtFullBath   0.208756  \nFullBath       0.575604  \nHalfBath       0.270145  \nBedroomAbvGr   0.170174  \nTotRmsAbvGrd   0.545540  \nFireplaces     0.462937  \nGarageYrBlt    0.467009  \nGarageCars     0.641825  \nGarageArea     0.621095  \nWoodDeckSF     0.317361  \nOpenPorchSF    0.304972  \nMoSold         0.041754  \nYrSold        -0.023361  \nSalePrice      1.000000  \n\n[29 rows x 29 columns]",
      "text/html": "<div>\n<style scoped>\n    .dataframe tbody tr th:only-of-type {\n        vertical-align: middle;\n    }\n\n    .dataframe tbody tr th {\n        vertical-align: top;\n    }\n\n    .dataframe thead th {\n        text-align: right;\n    }\n</style>\n<table border=\"1\" class=\"dataframe\">\n  <thead>\n    <tr style=\"text-align: right;\">\n      <th></th>\n      <th>Id</th>\n      <th>MSSubClass</th>\n      <th>LotFrontage</th>\n      <th>LotArea</th>\n      <th>OverallQual</th>\n      <th>OverallCond</th>\n      <th>YearBuilt</th>\n      <th>YearRemodAdd</th>\n      <th>MasVnrArea</th>\n      <th>BsmtFinSF1</th>\n      <th>...</th>\n      <th>TotRmsAbvGrd</th>\n      <th>Fireplaces</th>\n      <th>GarageYrBlt</th>\n      <th>GarageCars</th>\n      <th>GarageArea</th>\n      <th>WoodDeckSF</th>\n      <th>OpenPorchSF</th>\n      <th>MoSold</th>\n      <th>YrSold</th>\n      <th>SalePrice</th>\n    </tr>\n  </thead>\n  <tbody>\n    <tr>\n      <th>Id</th>\n      <td>1.000000</td>\n      <td>0.010816</td>\n      <td>-0.012445</td>\n      <td>-0.034357</td>\n      <td>-0.031729</td>\n      <td>0.017332</td>\n      <td>-0.016396</td>\n      <td>-0.023834</td>\n      <td>-0.047418</td>\n      <td>-0.005680</td>\n      <td>...</td>\n      <td>0.026706</td>\n      <td>-0.017027</td>\n      <td>-0.003015</td>\n      <td>0.016094</td>\n      <td>0.018983</td>\n      <td>-0.029800</td>\n      <td>-0.005046</td>\n      <td>0.026508</td>\n      <td>-0.004209</td>\n      <td>-0.024651</td>\n    </tr>\n    <tr>\n      <th>MSSubClass</th>\n      <td>0.010816</td>\n      <td>1.000000</td>\n      <td>-0.360014</td>\n      <td>-0.138298</td>\n      <td>0.038952</td>\n      <td>-0.063240</td>\n      <td>0.032256</td>\n      <td>0.043906</td>\n      <td>0.023024</td>\n      <td>-0.067783</td>\n      <td>...</td>\n      <td>0.030657</td>\n      <td>-0.040128</td>\n      <td>0.077805</td>\n      <td>-0.034897</td>\n      <td>-0.094523</td>\n      <td>-0.014568</td>\n      <td>-0.005684</td>\n      <td>-0.016463</td>\n      <td>-0.026526</td>\n      <td>-0.082281</td>\n    </tr>\n    <tr>\n      <th>LotFrontage</th>\n      <td>-0.012445</td>\n      <td>-0.360014</td>\n      <td>1.000000</td>\n      <td>0.305272</td>\n      <td>0.232351</td>\n      <td>-0.054635</td>\n      <td>0.114914</td>\n      <td>0.078828</td>\n      <td>0.179330</td>\n      <td>0.215487</td>\n      <td>...</td>\n      <td>0.323671</td>\n      <td>0.235190</td>\n      <td>0.061672</td>\n      <td>0.269574</td>\n      <td>0.324954</td>\n      <td>0.075353</td>\n      <td>0.134402</td>\n      <td>0.005484</td>\n      <td>0.006464</td>\n      <td>0.333477</td>\n    </tr>\n    <tr>\n      <th>LotArea</th>\n      <td>-0.034357</td>\n      <td>-0.138298</td>\n      <td>0.305272</td>\n      <td>1.000000</td>\n      <td>0.104763</td>\n      <td>-0.002941</td>\n      <td>0.014163</td>\n      <td>0.010765</td>\n      <td>0.104010</td>\n      <td>0.213450</td>\n      <td>...</td>\n      <td>0.189107</td>\n      <td>0.268960</td>\n      <td>-0.025509</td>\n      <td>0.153812</td>\n      <td>0.180207</td>\n      <td>0.172281</td>\n      <td>0.083860</td>\n      <td>0.001070</td>\n      <td>-0.012886</td>\n      <td>0.264803</td>\n    </tr>\n    <tr>\n      <th>OverallQual</th>\n      <td>-0.031729</td>\n      <td>0.038952</td>\n      <td>0.232351</td>\n      <td>0.104763</td>\n      <td>1.000000</td>\n      <td>-0.121155</td>\n      <td>0.570266</td>\n      <td>0.540129</td>\n      <td>0.409656</td>\n      <td>0.211652</td>\n      <td>...</td>\n      <td>0.438254</td>\n      <td>0.392978</td>\n      <td>0.518553</td>\n      <td>0.607663</td>\n      <td>0.561612</td>\n      <td>0.230274</td>\n      <td>0.297678</td>\n      <td>0.064301</td>\n      <td>-0.024251</td>\n      <td>0.786765</td>\n    </tr>\n    <tr>\n      <th>OverallCond</th>\n      <td>0.017332</td>\n      <td>-0.063240</td>\n      <td>-0.054635</td>\n      <td>-0.002941</td>\n      <td>-0.121155</td>\n      <td>1.000000</td>\n      <td>-0.389624</td>\n      <td>0.057361</td>\n      <td>-0.134961</td>\n      <td>-0.057034</td>\n      <td>...</td>\n      <td>-0.058852</td>\n      <td>-0.030047</td>\n      <td>-0.318041</td>\n      <td>-0.193904</td>\n      <td>-0.163341</td>\n      <td>-0.013206</td>\n      <td>-0.041823</td>\n      <td>-0.008530</td>\n      <td>0.048668</td>\n      <td>-0.093567</td>\n    </tr>\n    <tr>\n      <th>YearBuilt</th>\n      <td>-0.016396</td>\n      <td>0.032256</td>\n      <td>0.114914</td>\n      <td>0.014163</td>\n      <td>0.570266</td>\n      <td>-0.389624</td>\n      <td>1.000000</td>\n      <td>0.593163</td>\n      <td>0.311745</td>\n      <td>0.242714</td>\n      <td>...</td>\n      <td>0.091792</td>\n      <td>0.143433</td>\n      <td>0.782055</td>\n      <td>0.536963</td>\n      <td>0.475678</td>\n      <td>0.225469</td>\n      <td>0.185426</td>\n      <td>0.008403</td>\n      <td>-0.014693</td>\n      <td>0.518736</td>\n    </tr>\n    <tr>\n      <th>YearRemodAdd</th>\n      <td>-0.023834</td>\n      <td>0.043906</td>\n      <td>0.078828</td>\n      <td>0.010765</td>\n      <td>0.540129</td>\n      <td>0.057361</td>\n      <td>0.593163</td>\n      <td>1.000000</td>\n      <td>0.172112</td>\n      <td>0.110541</td>\n      <td>...</td>\n      <td>0.189216</td>\n      <td>0.100277</td>\n      <td>0.619550</td>\n      <td>0.423161</td>\n      <td>0.369665</td>\n      <td>0.199144</td>\n      <td>0.218889</td>\n      <td>0.015944</td>\n      <td>0.029968</td>\n      <td>0.500266</td>\n    </tr>\n    <tr>\n      <th>MasVnrArea</th>\n      <td>-0.047418</td>\n      <td>0.023024</td>\n      <td>0.179330</td>\n      <td>0.104010</td>\n      <td>0.409656</td>\n      <td>-0.134961</td>\n      <td>0.311745</td>\n      <td>0.172112</td>\n      <td>1.000000</td>\n      <td>0.259291</td>\n      <td>...</td>\n      <td>0.283266</td>\n      <td>0.241914</td>\n      <td>0.247561</td>\n      <td>0.363992</td>\n      <td>0.370982</td>\n      <td>0.157566</td>\n      <td>0.124018</td>\n      <td>-0.009909</td>\n      <td>-0.005249</td>\n      <td>0.474525</td>\n    </tr>\n    <tr>\n      <th>BsmtFinSF1</th>\n      <td>-0.005680</td>\n      <td>-0.067783</td>\n      <td>0.215487</td>\n      <td>0.213450</td>\n      <td>0.211652</td>\n      <td>-0.057034</td>\n      <td>0.242714</td>\n      <td>0.110541</td>\n      <td>0.259291</td>\n      <td>1.000000</td>\n      <td>...</td>\n      <td>0.043425</td>\n      <td>0.250394</td>\n      <td>0.141906</td>\n      <td>0.215661</td>\n      <td>0.288913</td>\n      <td>0.196236</td>\n      <td>0.098352</td>\n      <td>-0.020850</td>\n      <td>0.020268</td>\n      <td>0.368849</td>\n    </tr>\n    <tr>\n      <th>BsmtUnfSF</th>\n      <td>-0.007737</td>\n      <td>-0.139572</td>\n      <td>0.116354</td>\n      <td>-0.008757</td>\n      <td>0.278239</td>\n      <td>-0.159769</td>\n      <td>0.136097</td>\n      <td>0.159275</td>\n      <td>0.103094</td>\n      <td>-0.551475</td>\n      <td>...</td>\n      <td>0.258237</td>\n      <td>0.034840</td>\n      <td>0.176708</td>\n      <td>0.204255</td>\n      <td>0.170188</td>\n      <td>-0.022720</td>\n      <td>0.118343</td>\n      <td>0.031132</td>\n      <td>-0.036388</td>\n      <td>0.188959</td>\n    </tr>\n    <tr>\n      <th>TotalBsmtSF</th>\n      <td>-0.016215</td>\n      <td>-0.253332</td>\n      <td>0.384911</td>\n      <td>0.275637</td>\n      <td>0.509473</td>\n      <td>-0.221992</td>\n      <td>0.398561</td>\n      <td>0.265707</td>\n      <td>0.371677</td>\n      <td>0.504307</td>\n      <td>...</td>\n      <td>0.313035</td>\n      <td>0.336714</td>\n      <td>0.313682</td>\n      <td>0.445240</td>\n      <td>0.498678</td>\n      <td>0.222698</td>\n      <td>0.239398</td>\n      <td>0.002725</td>\n      <td>-0.003652</td>\n      <td>0.611084</td>\n    </tr>\n    <tr>\n      <th>1stFlrSF</th>\n      <td>0.008686</td>\n      <td>-0.254277</td>\n      <td>0.416546</td>\n      <td>0.296342</td>\n      <td>0.486418</td>\n      <td>-0.145056</td>\n      <td>0.283967</td>\n      <td>0.244458</td>\n      <td>0.348471</td>\n      <td>0.449253</td>\n      <td>...</td>\n      <td>0.404941</td>\n      <td>0.409462</td>\n      <td>0.232545</td>\n      <td>0.438976</td>\n      <td>0.493446</td>\n      <td>0.243118</td>\n      <td>0.213282</td>\n      <td>0.024335</td>\n      <td>-0.010113</td>\n      <td>0.614753</td>\n    </tr>\n    <tr>\n      <th>2ndFlrSF</th>\n      <td>0.005392</td>\n      <td>0.306522</td>\n      <td>0.073486</td>\n      <td>0.052246</td>\n      <td>0.291858</td>\n      <td>0.022496</td>\n      <td>0.001651</td>\n      <td>0.131614</td>\n      <td>0.170468</td>\n      <td>-0.146842</td>\n      <td>...</td>\n      <td>0.624663</td>\n      <td>0.191156</td>\n      <td>0.059206</td>\n      <td>0.185609</td>\n      <td>0.135449</td>\n      <td>0.082770</td>\n      <td>0.206436</td>\n      <td>0.041707</td>\n      <td>-0.033961</td>\n      <td>0.317948</td>\n    </tr>\n    <tr>\n      <th>GrLivArea</th>\n      <td>0.006616</td>\n      <td>0.073167</td>\n      <td>0.369118</td>\n      <td>0.260524</td>\n      <td>0.594985</td>\n      <td>-0.085187</td>\n      <td>0.191592</td>\n      <td>0.282058</td>\n      <td>0.389884</td>\n      <td>0.200188</td>\n      <td>...</td>\n      <td>0.827693</td>\n      <td>0.456052</td>\n      <td>0.216442</td>\n      <td>0.466083</td>\n      <td>0.466754</td>\n      <td>0.243955</td>\n      <td>0.329026</td>\n      <td>0.050364</td>\n      <td>-0.038223</td>\n      <td>0.711080</td>\n    </tr>\n    <tr>\n      <th>BsmtFullBath</th>\n      <td>0.002428</td>\n      <td>0.007005</td>\n      <td>0.089212</td>\n      <td>0.157024</td>\n      <td>0.082932</td>\n      <td>-0.064559</td>\n      <td>0.179642</td>\n      <td>0.103877</td>\n      <td>0.077607</td>\n      <td>0.639301</td>\n      <td>...</td>\n      <td>-0.057328</td>\n      <td>0.125861</td>\n      <td>0.111539</td>\n      <td>0.122583</td>\n      <td>0.169651</td>\n      <td>0.167384</td>\n      <td>0.055204</td>\n      <td>-0.028996</td>\n      <td>0.071713</td>\n      <td>0.208756</td>\n    </tr>\n    <tr>\n      <th>FullBath</th>\n      <td>0.005957</td>\n      <td>0.121525</td>\n      <td>0.182111</td>\n      <td>0.124752</td>\n      <td>0.576543</td>\n      <td>-0.190209</td>\n      <td>0.474767</td>\n      <td>0.454840</td>\n      <td>0.277278</td>\n      <td>0.060432</td>\n      <td>...</td>\n      <td>0.555163</td>\n      <td>0.246986</td>\n      <td>0.470524</td>\n      <td>0.477142</td>\n      <td>0.412022</td>\n      <td>0.195331</td>\n      <td>0.267207</td>\n      <td>0.059877</td>\n      <td>-0.026478</td>\n      <td>0.575604</td>\n    </tr>\n    <tr>\n      <th>HalfBath</th>\n      <td>0.002979</td>\n      <td>0.181273</td>\n      <td>0.046548</td>\n      <td>0.013808</td>\n      <td>0.256616</td>\n      <td>-0.072977</td>\n      <td>0.233529</td>\n      <td>0.168525</td>\n      <td>0.197999</td>\n      <td>-0.015215</td>\n      <td>...</td>\n      <td>0.352956</td>\n      <td>0.198347</td>\n      <td>0.182232</td>\n      <td>0.214780</td>\n      <td>0.156993</td>\n      <td>0.096899</td>\n      <td>0.190067</td>\n      <td>-0.007592</td>\n      <td>-0.005113</td>\n      <td>0.270145</td>\n    </tr>\n    <tr>\n      <th>BedroomAbvGr</th>\n      <td>0.039598</td>\n      <td>-0.031432</td>\n      <td>0.240053</td>\n      <td>0.119153</td>\n      <td>0.096722</td>\n      <td>0.016070</td>\n      <td>-0.080611</td>\n      <td>-0.050080</td>\n      <td>0.101925</td>\n      <td>-0.110303</td>\n      <td>...</td>\n      <td>0.669181</td>\n      <td>0.099368</td>\n      <td>-0.066865</td>\n      <td>0.084165</td>\n      <td>0.063031</td>\n      <td>0.042391</td>\n      <td>0.103261</td>\n      <td>0.051262</td>\n      <td>-0.053852</td>\n      <td>0.170174</td>\n    </tr>\n    <tr>\n      <th>TotRmsAbvGrd</th>\n      <td>0.026706</td>\n      <td>0.030657</td>\n      <td>0.323671</td>\n      <td>0.189107</td>\n      <td>0.438254</td>\n      <td>-0.058852</td>\n      <td>0.091792</td>\n      <td>0.189216</td>\n      <td>0.283266</td>\n      <td>0.043425</td>\n      <td>...</td>\n      <td>1.000000</td>\n      <td>0.324268</td>\n      <td>0.141825</td>\n      <td>0.364135</td>\n      <td>0.341006</td>\n      <td>0.164481</td>\n      <td>0.243512</td>\n      <td>0.037443</td>\n      <td>-0.047586</td>\n      <td>0.545540</td>\n    </tr>\n    <tr>\n      <th>Fireplaces</th>\n      <td>-0.017027</td>\n      <td>-0.040128</td>\n      <td>0.235190</td>\n      <td>0.268960</td>\n      <td>0.392978</td>\n      <td>-0.030047</td>\n      <td>0.143433</td>\n      <td>0.100277</td>\n      <td>0.241914</td>\n      <td>0.250394</td>\n      <td>...</td>\n      <td>0.324268</td>\n      <td>1.000000</td>\n      <td>0.039011</td>\n      <td>0.300632</td>\n      <td>0.264652</td>\n      <td>0.194283</td>\n      <td>0.165487</td>\n      <td>0.048784</td>\n      <td>-0.020645</td>\n      <td>0.462937</td>\n    </tr>\n    <tr>\n      <th>GarageYrBlt</th>\n      <td>-0.003015</td>\n      <td>0.077805</td>\n      <td>0.061672</td>\n      <td>-0.025509</td>\n      <td>0.518553</td>\n      <td>-0.318041</td>\n      <td>0.782055</td>\n      <td>0.619550</td>\n      <td>0.247561</td>\n      <td>0.141906</td>\n      <td>...</td>\n      <td>0.141825</td>\n      <td>0.039011</td>\n      <td>1.000000</td>\n      <td>0.489577</td>\n      <td>0.480758</td>\n      <td>0.220414</td>\n      <td>0.211320</td>\n      <td>0.002400</td>\n      <td>-0.002887</td>\n      <td>0.467009</td>\n    </tr>\n    <tr>\n      <th>GarageCars</th>\n      <td>0.016094</td>\n      <td>-0.034897</td>\n      <td>0.269574</td>\n      <td>0.153812</td>\n      <td>0.607663</td>\n      <td>-0.193904</td>\n      <td>0.536963</td>\n      <td>0.423161</td>\n      <td>0.363992</td>\n      <td>0.215661</td>\n      <td>...</td>\n      <td>0.364135</td>\n      <td>0.300632</td>\n      <td>0.489577</td>\n      <td>1.000000</td>\n      <td>0.880618</td>\n      <td>0.228394</td>\n      <td>0.211619</td>\n      <td>0.033566</td>\n      <td>-0.037235</td>\n      <td>0.641825</td>\n    </tr>\n    <tr>\n      <th>GarageArea</th>\n      <td>0.018983</td>\n      <td>-0.094523</td>\n      <td>0.324954</td>\n      <td>0.180207</td>\n      <td>0.561612</td>\n      <td>-0.163341</td>\n      <td>0.475678</td>\n      <td>0.369665</td>\n      <td>0.370982</td>\n      <td>0.288913</td>\n      <td>...</td>\n      <td>0.341006</td>\n      <td>0.264652</td>\n      <td>0.480758</td>\n      <td>0.880618</td>\n      <td>1.000000</td>\n      <td>0.225518</td>\n      <td>0.237539</td>\n      <td>0.020616</td>\n      <td>-0.024710</td>\n      <td>0.621095</td>\n    </tr>\n    <tr>\n      <th>WoodDeckSF</th>\n      <td>-0.029800</td>\n      <td>-0.014568</td>\n      <td>0.075353</td>\n      <td>0.172281</td>\n      <td>0.230274</td>\n      <td>-0.013206</td>\n      <td>0.225469</td>\n      <td>0.199144</td>\n      <td>0.157566</td>\n      <td>0.196236</td>\n      <td>...</td>\n      <td>0.164481</td>\n      <td>0.194283</td>\n      <td>0.220414</td>\n      <td>0.228394</td>\n      <td>0.225518</td>\n      <td>1.000000</td>\n      <td>0.049607</td>\n      <td>0.024436</td>\n      <td>0.025488</td>\n      <td>0.317361</td>\n    </tr>\n    <tr>\n      <th>OpenPorchSF</th>\n      <td>-0.005046</td>\n      <td>-0.005684</td>\n      <td>0.134402</td>\n      <td>0.083860</td>\n      <td>0.297678</td>\n      <td>-0.041823</td>\n      <td>0.185426</td>\n      <td>0.218889</td>\n      <td>0.124018</td>\n      <td>0.098352</td>\n      <td>...</td>\n      <td>0.243512</td>\n      <td>0.165487</td>\n      <td>0.211320</td>\n      <td>0.211619</td>\n      <td>0.237539</td>\n      <td>0.049607</td>\n      <td>1.000000</td>\n      <td>0.069473</td>\n      <td>-0.050484</td>\n      <td>0.304972</td>\n    </tr>\n    <tr>\n      <th>MoSold</th>\n      <td>0.026508</td>\n      <td>-0.016463</td>\n      <td>0.005484</td>\n      <td>0.001070</td>\n      <td>0.064301</td>\n      <td>-0.008530</td>\n      <td>0.008403</td>\n      <td>0.015944</td>\n      <td>-0.009909</td>\n      <td>-0.020850</td>\n      <td>...</td>\n      <td>0.037443</td>\n      <td>0.048784</td>\n      <td>0.002400</td>\n      <td>0.033566</td>\n      <td>0.020616</td>\n      <td>0.024436</td>\n      <td>0.069473</td>\n      <td>1.000000</td>\n      <td>-0.148464</td>\n      <td>0.041754</td>\n    </tr>\n    <tr>\n      <th>YrSold</th>\n      <td>-0.004209</td>\n      <td>-0.026526</td>\n      <td>0.006464</td>\n      <td>-0.012886</td>\n      <td>-0.024251</td>\n      <td>0.048668</td>\n      <td>-0.014693</td>\n      <td>0.029968</td>\n      <td>-0.005249</td>\n      <td>0.020268</td>\n      <td>...</td>\n      <td>-0.047586</td>\n      <td>-0.020645</td>\n      <td>-0.002887</td>\n      <td>-0.037235</td>\n      <td>-0.024710</td>\n      <td>0.025488</td>\n      <td>-0.050484</td>\n      <td>-0.148464</td>\n      <td>1.000000</td>\n      <td>-0.023361</td>\n    </tr>\n    <tr>\n      <th>SalePrice</th>\n      <td>-0.024651</td>\n      <td>-0.082281</td>\n      <td>0.333477</td>\n      <td>0.264803</td>\n      <td>0.786765</td>\n      <td>-0.093567</td>\n      <td>0.518736</td>\n      <td>0.500266</td>\n      <td>0.474525</td>\n      <td>0.368849</td>\n      <td>...</td>\n      <td>0.545540</td>\n      <td>0.462937</td>\n      <td>0.467009</td>\n      <td>0.641825</td>\n      <td>0.621095</td>\n      <td>0.317361</td>\n      <td>0.304972</td>\n      <td>0.041754</td>\n      <td>-0.023361</td>\n      <td>1.000000</td>\n    </tr>\n  </tbody>\n</table>\n<p>29 rows × 29 columns</p>\n</div>"
     },
     "execution_count": 231,
     "metadata": {},
     "output_type": "execute_result"
    }
   ],
   "source": [
    "#calculate the correlation matrix  (note the correlation matrix just only for numirical features )\n",
    "numerical_data = data.select_dtypes(include=['int64', 'float64'])\n",
    "numerical_data.corr()\n"
   ]
  },
  {
   "cell_type": "markdown",
   "id": "e0bd74b3",
   "metadata": {},
   "source": [
    "#### If we have 2 highly correlated features (corr > 0.7), we drop one of them (the variable which is less correlated to the response variable (Output column) )"
   ]
  },
  {
   "cell_type": "code",
   "execution_count": 232,
   "id": "6570fc8e",
   "metadata": {
    "scrolled": true,
    "ExecuteTime": {
     "end_time": "2025-02-23T01:18:36.757101400Z",
     "start_time": "2025-02-23T01:18:36.717200800Z"
    }
   },
   "outputs": [
    {
     "name": "stdout",
     "output_type": "stream",
     "text": [
      "the columns are dropped are {'GarageYrBlt', 'TotRmsAbvGrd', 'TotalBsmtSF', 'GarageArea'}\n"
     ]
    },
    {
     "data": {
      "text/plain": "        Id  MSSubClass MSZoning  LotFrontage  LotArea LotShape LotConfig  \\\n0        1          60       RL         65.0     8450      Reg    Inside   \n1        2          20       RL         80.0     9600      Reg       FR2   \n2        3          60       RL         68.0    11250      IR1    Inside   \n3        4          70       RL         60.0     9550      IR1    Corner   \n4        5          60       RL         84.0    14260      IR1       FR2   \n...    ...         ...      ...          ...      ...      ...       ...   \n1455  1456          60       RL         62.0     7917      Reg    Inside   \n1456  1457          20       RL         85.0    13175      Reg    Inside   \n1457  1458          70       RL         66.0     9042      Reg    Inside   \n1458  1459          20       RL         68.0     9717      Reg    Inside   \n1459  1460          20       RL         75.0     9937      Reg    Inside   \n\n     Neighborhood HouseStyle  OverallQual  ...  Fireplaces  FireplaceQu  \\\n0         CollgCr     2Story            7  ...           0          NaN   \n1         Veenker     1Story            6  ...           1           TA   \n2         CollgCr     2Story            7  ...           1           TA   \n3         Crawfor     2Story            7  ...           1           Gd   \n4         NoRidge     2Story            8  ...           1           TA   \n...           ...        ...          ...  ...         ...          ...   \n1455      Gilbert     2Story            6  ...           1           TA   \n1456       NWAmes     1Story            6  ...           2           TA   \n1457      Crawfor     2Story            7  ...           2           Gd   \n1458        NAmes     1Story            5  ...           0          NaN   \n1459      Edwards     1Story            5  ...           0          NaN   \n\n      GarageType GarageFinish GarageCars WoodDeckSF OpenPorchSF  MoSold  \\\n0         Attchd          RFn          2          0          61       2   \n1         Attchd          RFn          2        298           0       5   \n2         Attchd          RFn          2          0          42       9   \n3         Detchd          Unf          3          0          35       2   \n4         Attchd          RFn          3        192          84      12   \n...          ...          ...        ...        ...         ...     ...   \n1455      Attchd          RFn          2          0          40       8   \n1456      Attchd          Unf          2        349           0       2   \n1457      Attchd          RFn          1          0          60       5   \n1458      Attchd          Unf          1        366           0       4   \n1459      Attchd          Fin          1        736          68       6   \n\n     YrSold SalePrice  \n0      2008    208500  \n1      2007    181500  \n2      2008    223500  \n3      2006    140000  \n4      2008    250000  \n...     ...       ...  \n1455   2007    175000  \n1456   2010    210000  \n1457   2010    266500  \n1458   2010    142125  \n1459   2008    147500  \n\n[1412 rows x 44 columns]",
      "text/html": "<div>\n<style scoped>\n    .dataframe tbody tr th:only-of-type {\n        vertical-align: middle;\n    }\n\n    .dataframe tbody tr th {\n        vertical-align: top;\n    }\n\n    .dataframe thead th {\n        text-align: right;\n    }\n</style>\n<table border=\"1\" class=\"dataframe\">\n  <thead>\n    <tr style=\"text-align: right;\">\n      <th></th>\n      <th>Id</th>\n      <th>MSSubClass</th>\n      <th>MSZoning</th>\n      <th>LotFrontage</th>\n      <th>LotArea</th>\n      <th>LotShape</th>\n      <th>LotConfig</th>\n      <th>Neighborhood</th>\n      <th>HouseStyle</th>\n      <th>OverallQual</th>\n      <th>...</th>\n      <th>Fireplaces</th>\n      <th>FireplaceQu</th>\n      <th>GarageType</th>\n      <th>GarageFinish</th>\n      <th>GarageCars</th>\n      <th>WoodDeckSF</th>\n      <th>OpenPorchSF</th>\n      <th>MoSold</th>\n      <th>YrSold</th>\n      <th>SalePrice</th>\n    </tr>\n  </thead>\n  <tbody>\n    <tr>\n      <th>0</th>\n      <td>1</td>\n      <td>60</td>\n      <td>RL</td>\n      <td>65.0</td>\n      <td>8450</td>\n      <td>Reg</td>\n      <td>Inside</td>\n      <td>CollgCr</td>\n      <td>2Story</td>\n      <td>7</td>\n      <td>...</td>\n      <td>0</td>\n      <td>NaN</td>\n      <td>Attchd</td>\n      <td>RFn</td>\n      <td>2</td>\n      <td>0</td>\n      <td>61</td>\n      <td>2</td>\n      <td>2008</td>\n      <td>208500</td>\n    </tr>\n    <tr>\n      <th>1</th>\n      <td>2</td>\n      <td>20</td>\n      <td>RL</td>\n      <td>80.0</td>\n      <td>9600</td>\n      <td>Reg</td>\n      <td>FR2</td>\n      <td>Veenker</td>\n      <td>1Story</td>\n      <td>6</td>\n      <td>...</td>\n      <td>1</td>\n      <td>TA</td>\n      <td>Attchd</td>\n      <td>RFn</td>\n      <td>2</td>\n      <td>298</td>\n      <td>0</td>\n      <td>5</td>\n      <td>2007</td>\n      <td>181500</td>\n    </tr>\n    <tr>\n      <th>2</th>\n      <td>3</td>\n      <td>60</td>\n      <td>RL</td>\n      <td>68.0</td>\n      <td>11250</td>\n      <td>IR1</td>\n      <td>Inside</td>\n      <td>CollgCr</td>\n      <td>2Story</td>\n      <td>7</td>\n      <td>...</td>\n      <td>1</td>\n      <td>TA</td>\n      <td>Attchd</td>\n      <td>RFn</td>\n      <td>2</td>\n      <td>0</td>\n      <td>42</td>\n      <td>9</td>\n      <td>2008</td>\n      <td>223500</td>\n    </tr>\n    <tr>\n      <th>3</th>\n      <td>4</td>\n      <td>70</td>\n      <td>RL</td>\n      <td>60.0</td>\n      <td>9550</td>\n      <td>IR1</td>\n      <td>Corner</td>\n      <td>Crawfor</td>\n      <td>2Story</td>\n      <td>7</td>\n      <td>...</td>\n      <td>1</td>\n      <td>Gd</td>\n      <td>Detchd</td>\n      <td>Unf</td>\n      <td>3</td>\n      <td>0</td>\n      <td>35</td>\n      <td>2</td>\n      <td>2006</td>\n      <td>140000</td>\n    </tr>\n    <tr>\n      <th>4</th>\n      <td>5</td>\n      <td>60</td>\n      <td>RL</td>\n      <td>84.0</td>\n      <td>14260</td>\n      <td>IR1</td>\n      <td>FR2</td>\n      <td>NoRidge</td>\n      <td>2Story</td>\n      <td>8</td>\n      <td>...</td>\n      <td>1</td>\n      <td>TA</td>\n      <td>Attchd</td>\n      <td>RFn</td>\n      <td>3</td>\n      <td>192</td>\n      <td>84</td>\n      <td>12</td>\n      <td>2008</td>\n      <td>250000</td>\n    </tr>\n    <tr>\n      <th>...</th>\n      <td>...</td>\n      <td>...</td>\n      <td>...</td>\n      <td>...</td>\n      <td>...</td>\n      <td>...</td>\n      <td>...</td>\n      <td>...</td>\n      <td>...</td>\n      <td>...</td>\n      <td>...</td>\n      <td>...</td>\n      <td>...</td>\n      <td>...</td>\n      <td>...</td>\n      <td>...</td>\n      <td>...</td>\n      <td>...</td>\n      <td>...</td>\n      <td>...</td>\n      <td>...</td>\n    </tr>\n    <tr>\n      <th>1455</th>\n      <td>1456</td>\n      <td>60</td>\n      <td>RL</td>\n      <td>62.0</td>\n      <td>7917</td>\n      <td>Reg</td>\n      <td>Inside</td>\n      <td>Gilbert</td>\n      <td>2Story</td>\n      <td>6</td>\n      <td>...</td>\n      <td>1</td>\n      <td>TA</td>\n      <td>Attchd</td>\n      <td>RFn</td>\n      <td>2</td>\n      <td>0</td>\n      <td>40</td>\n      <td>8</td>\n      <td>2007</td>\n      <td>175000</td>\n    </tr>\n    <tr>\n      <th>1456</th>\n      <td>1457</td>\n      <td>20</td>\n      <td>RL</td>\n      <td>85.0</td>\n      <td>13175</td>\n      <td>Reg</td>\n      <td>Inside</td>\n      <td>NWAmes</td>\n      <td>1Story</td>\n      <td>6</td>\n      <td>...</td>\n      <td>2</td>\n      <td>TA</td>\n      <td>Attchd</td>\n      <td>Unf</td>\n      <td>2</td>\n      <td>349</td>\n      <td>0</td>\n      <td>2</td>\n      <td>2010</td>\n      <td>210000</td>\n    </tr>\n    <tr>\n      <th>1457</th>\n      <td>1458</td>\n      <td>70</td>\n      <td>RL</td>\n      <td>66.0</td>\n      <td>9042</td>\n      <td>Reg</td>\n      <td>Inside</td>\n      <td>Crawfor</td>\n      <td>2Story</td>\n      <td>7</td>\n      <td>...</td>\n      <td>2</td>\n      <td>Gd</td>\n      <td>Attchd</td>\n      <td>RFn</td>\n      <td>1</td>\n      <td>0</td>\n      <td>60</td>\n      <td>5</td>\n      <td>2010</td>\n      <td>266500</td>\n    </tr>\n    <tr>\n      <th>1458</th>\n      <td>1459</td>\n      <td>20</td>\n      <td>RL</td>\n      <td>68.0</td>\n      <td>9717</td>\n      <td>Reg</td>\n      <td>Inside</td>\n      <td>NAmes</td>\n      <td>1Story</td>\n      <td>5</td>\n      <td>...</td>\n      <td>0</td>\n      <td>NaN</td>\n      <td>Attchd</td>\n      <td>Unf</td>\n      <td>1</td>\n      <td>366</td>\n      <td>0</td>\n      <td>4</td>\n      <td>2010</td>\n      <td>142125</td>\n    </tr>\n    <tr>\n      <th>1459</th>\n      <td>1460</td>\n      <td>20</td>\n      <td>RL</td>\n      <td>75.0</td>\n      <td>9937</td>\n      <td>Reg</td>\n      <td>Inside</td>\n      <td>Edwards</td>\n      <td>1Story</td>\n      <td>5</td>\n      <td>...</td>\n      <td>0</td>\n      <td>NaN</td>\n      <td>Attchd</td>\n      <td>Fin</td>\n      <td>1</td>\n      <td>736</td>\n      <td>68</td>\n      <td>6</td>\n      <td>2008</td>\n      <td>147500</td>\n    </tr>\n  </tbody>\n</table>\n<p>1412 rows × 44 columns</p>\n</div>"
     },
     "execution_count": 232,
     "metadata": {},
     "output_type": "execute_result"
    }
   ],
   "source": [
    "def drop_corr_features(df, output_column, thresh=0.7):\n",
    "    numerical_data = df.select_dtypes(include=['int64', 'float64']).drop(columns=[output_column], errors='ignore')\n",
    "    \n",
    "    corr_matrix = numerical_data.corr()\n",
    "    \n",
    "    highly_correlated_pairs = set()\n",
    "    for i in range(len(corr_matrix.columns)):\n",
    "        for j in range(i):\n",
    "            if abs(corr_matrix.iloc[i, j]) > thresh:\n",
    "                highly_correlated_pairs.add((corr_matrix.columns[i], corr_matrix.columns[j]))\n",
    "    \n",
    "    response_corr = df[numerical_data.columns].corrwith(df[output_column])\n",
    "\n",
    "    columns_to_drop = set()\n",
    "    for feature1, feature2 in highly_correlated_pairs:\n",
    "        if abs(response_corr[feature1]) < abs(response_corr[feature2]):\n",
    "            columns_to_drop.add(feature1)\n",
    "        else:\n",
    "            columns_to_drop.add(feature2)\n",
    "\n",
    "    \n",
    "    df = df.drop(columns=columns_to_drop)\n",
    "    \n",
    "    print(f\"the columns are dropped are {columns_to_drop}\")\n",
    "    \n",
    "    return df\n",
    "    \n",
    "    \n",
    "output_column = 'SalePrice'\n",
    "drop_corr_features(data, output_column)\n"
   ]
  },
  {
   "cell_type": "markdown",
   "id": "0e0e3afb",
   "metadata": {},
   "source": [
    "# Handling Outliers \n",
    "- lower band = q1 - (1.5*IQR)\n",
    "- Upper band = q3 + (1.5*IQR)"
   ]
  },
  {
   "cell_type": "code",
   "execution_count": 233,
   "id": "6fb65893",
   "metadata": {
    "ExecuteTime": {
     "end_time": "2025-02-23T01:18:38.066791200Z",
     "start_time": "2025-02-23T01:18:38.009090500Z"
    }
   },
   "outputs": [
    {
     "data": {
      "text/plain": "        Id  MSSubClass MSZoning  LotFrontage  LotArea LotShape LotConfig  \\\n0        1          60       RL         65.0     8450      Reg    Inside   \n1        2          20       RL         80.0     9600      Reg       FR2   \n2        3          60       RL         68.0    11250      IR1    Inside   \n3        4          70       RL         60.0     9550      IR1    Corner   \n4        5          60       RL         84.0    14260      IR1       FR2   \n...    ...         ...      ...          ...      ...      ...       ...   \n1455  1456          60       RL         62.0     7917      Reg    Inside   \n1456  1457          20       RL         85.0    13175      Reg    Inside   \n1457  1458          70       RL         66.0     9042      Reg    Inside   \n1458  1459          20       RL         68.0     9717      Reg    Inside   \n1459  1460          20       RL         75.0     9937      Reg    Inside   \n\n     Neighborhood HouseStyle  OverallQual  ...  GarageType  GarageYrBlt  \\\n0         CollgCr     2Story            7  ...      Attchd       2003.0   \n1         Veenker     1Story            6  ...      Attchd       1976.0   \n2         CollgCr     2Story            7  ...      Attchd       2001.0   \n3         Crawfor     2Story            7  ...      Detchd       1998.0   \n4         NoRidge     2Story            8  ...      Attchd       2000.0   \n...           ...        ...          ...  ...         ...          ...   \n1455      Gilbert     2Story            6  ...      Attchd       1999.0   \n1456       NWAmes     1Story            6  ...      Attchd       1978.0   \n1457      Crawfor     2Story            7  ...      Attchd       1941.0   \n1458        NAmes     1Story            5  ...      Attchd       1950.0   \n1459      Edwards     1Story            5  ...      Attchd       1965.0   \n\n      GarageFinish GarageCars GarageArea WoodDeckSF OpenPorchSF  MoSold  \\\n0              RFn          2        548          0          61       2   \n1              RFn          2        460        298           0       5   \n2              RFn          2        608          0          42       9   \n3              Unf          3        642          0          35       2   \n4              RFn          3        836        192          84      12   \n...            ...        ...        ...        ...         ...     ...   \n1455           RFn          2        460          0          40       8   \n1456           Unf          2        500        349           0       2   \n1457           RFn          1        252          0          60       5   \n1458           Unf          1        240        366           0       4   \n1459           Fin          1        276        736          68       6   \n\n     YrSold SalePrice  \n0      2008    208500  \n1      2007    181500  \n2      2008    223500  \n3      2006    140000  \n4      2008    250000  \n...     ...       ...  \n1455   2007    175000  \n1456   2010    210000  \n1457   2010    266500  \n1458   2010    142125  \n1459   2008    147500  \n\n[1352 rows x 48 columns]",
      "text/html": "<div>\n<style scoped>\n    .dataframe tbody tr th:only-of-type {\n        vertical-align: middle;\n    }\n\n    .dataframe tbody tr th {\n        vertical-align: top;\n    }\n\n    .dataframe thead th {\n        text-align: right;\n    }\n</style>\n<table border=\"1\" class=\"dataframe\">\n  <thead>\n    <tr style=\"text-align: right;\">\n      <th></th>\n      <th>Id</th>\n      <th>MSSubClass</th>\n      <th>MSZoning</th>\n      <th>LotFrontage</th>\n      <th>LotArea</th>\n      <th>LotShape</th>\n      <th>LotConfig</th>\n      <th>Neighborhood</th>\n      <th>HouseStyle</th>\n      <th>OverallQual</th>\n      <th>...</th>\n      <th>GarageType</th>\n      <th>GarageYrBlt</th>\n      <th>GarageFinish</th>\n      <th>GarageCars</th>\n      <th>GarageArea</th>\n      <th>WoodDeckSF</th>\n      <th>OpenPorchSF</th>\n      <th>MoSold</th>\n      <th>YrSold</th>\n      <th>SalePrice</th>\n    </tr>\n  </thead>\n  <tbody>\n    <tr>\n      <th>0</th>\n      <td>1</td>\n      <td>60</td>\n      <td>RL</td>\n      <td>65.0</td>\n      <td>8450</td>\n      <td>Reg</td>\n      <td>Inside</td>\n      <td>CollgCr</td>\n      <td>2Story</td>\n      <td>7</td>\n      <td>...</td>\n      <td>Attchd</td>\n      <td>2003.0</td>\n      <td>RFn</td>\n      <td>2</td>\n      <td>548</td>\n      <td>0</td>\n      <td>61</td>\n      <td>2</td>\n      <td>2008</td>\n      <td>208500</td>\n    </tr>\n    <tr>\n      <th>1</th>\n      <td>2</td>\n      <td>20</td>\n      <td>RL</td>\n      <td>80.0</td>\n      <td>9600</td>\n      <td>Reg</td>\n      <td>FR2</td>\n      <td>Veenker</td>\n      <td>1Story</td>\n      <td>6</td>\n      <td>...</td>\n      <td>Attchd</td>\n      <td>1976.0</td>\n      <td>RFn</td>\n      <td>2</td>\n      <td>460</td>\n      <td>298</td>\n      <td>0</td>\n      <td>5</td>\n      <td>2007</td>\n      <td>181500</td>\n    </tr>\n    <tr>\n      <th>2</th>\n      <td>3</td>\n      <td>60</td>\n      <td>RL</td>\n      <td>68.0</td>\n      <td>11250</td>\n      <td>IR1</td>\n      <td>Inside</td>\n      <td>CollgCr</td>\n      <td>2Story</td>\n      <td>7</td>\n      <td>...</td>\n      <td>Attchd</td>\n      <td>2001.0</td>\n      <td>RFn</td>\n      <td>2</td>\n      <td>608</td>\n      <td>0</td>\n      <td>42</td>\n      <td>9</td>\n      <td>2008</td>\n      <td>223500</td>\n    </tr>\n    <tr>\n      <th>3</th>\n      <td>4</td>\n      <td>70</td>\n      <td>RL</td>\n      <td>60.0</td>\n      <td>9550</td>\n      <td>IR1</td>\n      <td>Corner</td>\n      <td>Crawfor</td>\n      <td>2Story</td>\n      <td>7</td>\n      <td>...</td>\n      <td>Detchd</td>\n      <td>1998.0</td>\n      <td>Unf</td>\n      <td>3</td>\n      <td>642</td>\n      <td>0</td>\n      <td>35</td>\n      <td>2</td>\n      <td>2006</td>\n      <td>140000</td>\n    </tr>\n    <tr>\n      <th>4</th>\n      <td>5</td>\n      <td>60</td>\n      <td>RL</td>\n      <td>84.0</td>\n      <td>14260</td>\n      <td>IR1</td>\n      <td>FR2</td>\n      <td>NoRidge</td>\n      <td>2Story</td>\n      <td>8</td>\n      <td>...</td>\n      <td>Attchd</td>\n      <td>2000.0</td>\n      <td>RFn</td>\n      <td>3</td>\n      <td>836</td>\n      <td>192</td>\n      <td>84</td>\n      <td>12</td>\n      <td>2008</td>\n      <td>250000</td>\n    </tr>\n    <tr>\n      <th>...</th>\n      <td>...</td>\n      <td>...</td>\n      <td>...</td>\n      <td>...</td>\n      <td>...</td>\n      <td>...</td>\n      <td>...</td>\n      <td>...</td>\n      <td>...</td>\n      <td>...</td>\n      <td>...</td>\n      <td>...</td>\n      <td>...</td>\n      <td>...</td>\n      <td>...</td>\n      <td>...</td>\n      <td>...</td>\n      <td>...</td>\n      <td>...</td>\n      <td>...</td>\n      <td>...</td>\n    </tr>\n    <tr>\n      <th>1455</th>\n      <td>1456</td>\n      <td>60</td>\n      <td>RL</td>\n      <td>62.0</td>\n      <td>7917</td>\n      <td>Reg</td>\n      <td>Inside</td>\n      <td>Gilbert</td>\n      <td>2Story</td>\n      <td>6</td>\n      <td>...</td>\n      <td>Attchd</td>\n      <td>1999.0</td>\n      <td>RFn</td>\n      <td>2</td>\n      <td>460</td>\n      <td>0</td>\n      <td>40</td>\n      <td>8</td>\n      <td>2007</td>\n      <td>175000</td>\n    </tr>\n    <tr>\n      <th>1456</th>\n      <td>1457</td>\n      <td>20</td>\n      <td>RL</td>\n      <td>85.0</td>\n      <td>13175</td>\n      <td>Reg</td>\n      <td>Inside</td>\n      <td>NWAmes</td>\n      <td>1Story</td>\n      <td>6</td>\n      <td>...</td>\n      <td>Attchd</td>\n      <td>1978.0</td>\n      <td>Unf</td>\n      <td>2</td>\n      <td>500</td>\n      <td>349</td>\n      <td>0</td>\n      <td>2</td>\n      <td>2010</td>\n      <td>210000</td>\n    </tr>\n    <tr>\n      <th>1457</th>\n      <td>1458</td>\n      <td>70</td>\n      <td>RL</td>\n      <td>66.0</td>\n      <td>9042</td>\n      <td>Reg</td>\n      <td>Inside</td>\n      <td>Crawfor</td>\n      <td>2Story</td>\n      <td>7</td>\n      <td>...</td>\n      <td>Attchd</td>\n      <td>1941.0</td>\n      <td>RFn</td>\n      <td>1</td>\n      <td>252</td>\n      <td>0</td>\n      <td>60</td>\n      <td>5</td>\n      <td>2010</td>\n      <td>266500</td>\n    </tr>\n    <tr>\n      <th>1458</th>\n      <td>1459</td>\n      <td>20</td>\n      <td>RL</td>\n      <td>68.0</td>\n      <td>9717</td>\n      <td>Reg</td>\n      <td>Inside</td>\n      <td>NAmes</td>\n      <td>1Story</td>\n      <td>5</td>\n      <td>...</td>\n      <td>Attchd</td>\n      <td>1950.0</td>\n      <td>Unf</td>\n      <td>1</td>\n      <td>240</td>\n      <td>366</td>\n      <td>0</td>\n      <td>4</td>\n      <td>2010</td>\n      <td>142125</td>\n    </tr>\n    <tr>\n      <th>1459</th>\n      <td>1460</td>\n      <td>20</td>\n      <td>RL</td>\n      <td>75.0</td>\n      <td>9937</td>\n      <td>Reg</td>\n      <td>Inside</td>\n      <td>Edwards</td>\n      <td>1Story</td>\n      <td>5</td>\n      <td>...</td>\n      <td>Attchd</td>\n      <td>1965.0</td>\n      <td>Fin</td>\n      <td>1</td>\n      <td>276</td>\n      <td>736</td>\n      <td>68</td>\n      <td>6</td>\n      <td>2008</td>\n      <td>147500</td>\n    </tr>\n  </tbody>\n</table>\n<p>1352 rows × 48 columns</p>\n</div>"
     },
     "execution_count": 233,
     "metadata": {},
     "output_type": "execute_result"
    }
   ],
   "source": [
    "# Write function to remove Outliers that above Upper band or below lower band for each column \n",
    "def remove_outliers_iqr(df):\n",
    "    \n",
    "    for col in df.select_dtypes(include=['int64', 'float64']).columns:\n",
    "        Q1 = df[col].quantile(0.25)\n",
    "        Q3 = df[col].quantile(0.75)\n",
    "\n",
    "        IQR = Q3 - Q1\n",
    "\n",
    "        lower_bound = Q1 - 1.5 * IQR\n",
    "        upper_bound = Q3 + 1.5 * IQR\n",
    "\n",
    "        cleaned_df = df[(df[col] >= lower_bound) & (df[col] <= upper_bound)]\n",
    "\n",
    "    return cleaned_df\n",
    "\n",
    "remove_outliers_iqr(data)"
   ]
  },
  {
   "attachments": {
    "image.png": {
     "image/png": "[encoded data removed]"
    }
   },
   "cell_type": "markdown",
   "id": "1ac8dbb3",
   "metadata": {},
   "source": [
    "\n",
    "# Skewness Handling\n",
    "![image.png](attachment:image.png)\n"
   ]
  },
  {
   "cell_type": "code",
   "execution_count": 234,
   "id": "65602da3",
   "metadata": {
    "ExecuteTime": {
     "end_time": "2025-02-23T01:18:39.296308100Z",
     "start_time": "2025-02-23T01:18:39.277484300Z"
    }
   },
   "outputs": [
    {
     "name": "stdout",
     "output_type": "stream",
     "text": [
      "Id: 0.0073472455198464815\n",
      "MSSubClass: 1.4141940178090493\n",
      "LotFrontage: 2.3665468838229513\n",
      "LotArea: 12.102529635580286\n",
      "OverallQual: 0.255785540287413\n",
      "OverallCond: 0.7148707095231703\n",
      "YearBuilt: -0.6326637630299836\n",
      "YearRemodAdd: -0.5287590120438941\n",
      "MasVnrArea: 2.649692069796237\n",
      "BsmtFinSF1: 1.6942301896197762\n",
      "BsmtUnfSF: 0.9266174049936252\n",
      "TotalBsmtSF: 2.160686494096881\n",
      "1stFlrSF: 1.4005029160920588\n",
      "2ndFlrSF: 0.7941498537781779\n",
      "GrLivArea: 1.3869823272429722\n",
      "BsmtFullBath: 0.5625538424248616\n",
      "FullBath: 0.04103297834511108\n",
      "HalfBath: 0.6439134516884495\n",
      "BedroomAbvGr: 0.18914929496461527\n",
      "TotRmsAbvGrd: 0.6986742186737454\n",
      "Fireplaces: 0.6303726758493353\n",
      "GarageYrBlt: -0.6861167566198949\n",
      "GarageCars: -0.3166875325025744\n",
      "GarageArea: 0.2027240176552314\n",
      "WoodDeckSF: 1.5153696920505233\n",
      "OpenPorchSF: 2.364335500517711\n",
      "MoSold: 0.2093698459827723\n",
      "YrSold: 0.10652061982371916\n",
      "SalePrice: 1.893758353943306\n"
     ]
    }
   ],
   "source": [
    "# write function to calc the skewness of each feature\n",
    "#Note  N = train_data.shape[0]  (rows count)\n",
    "def calculate_skewness(df):\n",
    "    skewness_dict = {}\n",
    "    \n",
    "    for col in df.select_dtypes(include=['int64', 'float64']).columns: \n",
    "        numerator = ((df[col] - df[col].mean()) ** 3).sum()\n",
    "\n",
    "        N = df[col].count() \n",
    "        denominator = (N - 1) * ((df[col].std()) ** 3)\n",
    "\n",
    "        if denominator != 0:\n",
    "            skewness = numerator / denominator\n",
    "        else:\n",
    "            skewness = 0\n",
    "\n",
    "        skewness_dict[col] = skewness\n",
    "\n",
    "    return skewness_dict\n",
    "\n",
    "skewness_values = calculate_skewness(data)\n",
    "for key, value in skewness_values.items():\n",
    "    print(f\"{key}: {value}\")"
   ]
  },
  {
   "cell_type": "markdown",
   "id": "82143e95",
   "metadata": {},
   "source": [
    "# Log Transformation\n",
    "> X = log(1 + | X | )     \n",
    "this is the equation "
   ]
  },
  {
   "cell_type": "code",
   "execution_count": 235,
   "id": "2501d3f3",
   "metadata": {
    "ExecuteTime": {
     "end_time": "2025-02-23T01:18:40.602996700Z",
     "start_time": "2025-02-23T01:18:40.576951700Z"
    }
   },
   "outputs": [
    {
     "name": "stdout",
     "output_type": "stream",
     "text": [
      "Features is log_Transformed : \n",
      "MSSubClass\n",
      "LotFrontage\n",
      "LotArea\n",
      "MasVnrArea\n",
      "BsmtFinSF1\n",
      "TotalBsmtSF\n",
      "1stFlrSF\n",
      "GrLivArea\n",
      "WoodDeckSF\n",
      "OpenPorchSF\n",
      "SalePrice\n"
     ]
    }
   ],
   "source": [
    "# Features that have absolute skewness > 1 do for it Log tranformation \n",
    "def log_transform(df, skewness_dict, thresh = 1):\n",
    "    print(\"Features is log_Transformed : \")\n",
    "    for col, skewness in skewness_dict.items():\n",
    "        if abs(skewness) > thresh:\n",
    "            df[col] = np.log1p(df[col])\n",
    "            print(f\"{col}\")\n",
    "\n",
    "skewness_values = calculate_skewness(data)\n",
    "log_transform(data, skewness_values)"
   ]
  },
  {
   "cell_type": "markdown",
   "id": "4ab221c7",
   "metadata": {},
   "source": [
    "# Transform categorical features "
   ]
  },
  {
   "cell_type": "code",
   "execution_count": 236,
   "id": "2e24d041",
   "metadata": {
    "ExecuteTime": {
     "end_time": "2025-02-23T01:18:42.194110300Z",
     "start_time": "2025-02-23T01:18:42.179463100Z"
    }
   },
   "outputs": [],
   "source": [
    "# cat_cols ordinal or nominal?\n",
    "ordinal_cats = ['BsmtQual', 'LotShape', 'HeatingQC', 'BsmtFinType1',  'ExterQual', \n",
    "                 'KitchenQual', 'BsmtExposure', 'GarageFinish']\n",
    "nominal_cats = ['HouseStyle', 'LotConfig', 'RoofStyle', 'GarageType', 'Exterior1st', \n",
    "                'Foundation', 'MSZoning', 'Exterior2nd', 'Neighborhood','FireplaceQu']"
   ]
  },
  {
   "cell_type": "code",
   "execution_count": 237,
   "id": "873328e2",
   "metadata": {
    "ExecuteTime": {
     "end_time": "2025-02-23T01:18:42.778194100Z",
     "start_time": "2025-02-23T01:18:42.754219600Z"
    }
   },
   "outputs": [
    {
     "name": "stdout",
     "output_type": "stream",
     "text": [
      "Transformed DataFrame:\n",
      "    Id  MSSubClass  LotFrontage   LotArea  LotShape  OverallQual  OverallCond  \\\n",
      "0  1.0    4.110874     4.189655  9.042040       3.0          7.0          5.0   \n",
      "1  2.0    3.044522     4.394449  9.169623       3.0          6.0          8.0   \n",
      "2  3.0    4.110874     4.234107  9.328212       0.0          7.0          5.0   \n",
      "3  4.0    4.262680     4.110874  9.164401       0.0          7.0          5.0   \n",
      "4  5.0    4.110874     4.442651  9.565284       0.0          8.0          5.0   \n",
      "\n",
      "   YearBuilt  YearRemodAdd MasVnrType  ...  Neighborhood_SawyerW  \\\n",
      "0     2003.0        2003.0    BrkFace  ...                   0.0   \n",
      "1     1976.0        1976.0        NaN  ...                   0.0   \n",
      "2     2001.0        2002.0    BrkFace  ...                   0.0   \n",
      "3     1915.0        1970.0        NaN  ...                   0.0   \n",
      "4     2000.0        2000.0    BrkFace  ...                   0.0   \n",
      "\n",
      "   Neighborhood_Somerst  Neighborhood_StoneBr  Neighborhood_Timber  \\\n",
      "0                   0.0                   0.0                  0.0   \n",
      "1                   0.0                   0.0                  0.0   \n",
      "2                   0.0                   0.0                  0.0   \n",
      "3                   0.0                   0.0                  0.0   \n",
      "4                   0.0                   0.0                  0.0   \n",
      "\n",
      "   Neighborhood_Veenker  FireplaceQu_Fa  FireplaceQu_Gd  FireplaceQu_Po  \\\n",
      "0                   0.0             0.0             0.0             0.0   \n",
      "1                   1.0             0.0             0.0             0.0   \n",
      "2                   0.0             0.0             0.0             0.0   \n",
      "3                   0.0             0.0             1.0             0.0   \n",
      "4                   0.0             0.0             0.0             0.0   \n",
      "\n",
      "   FireplaceQu_TA  FireplaceQu_nan  \n",
      "0             0.0              1.0  \n",
      "1             1.0              0.0  \n",
      "2             1.0              0.0  \n",
      "3             0.0              0.0  \n",
      "4             1.0              0.0  \n",
      "\n",
      "[5 rows x 125 columns]\n"
     ]
    }
   ],
   "source": [
    "from sklearn.preprocessing import LabelEncoder\n",
    "from sklearn.preprocessing import OneHotEncoder\n",
    "\n",
    "# Write code to transform each ordinal and nominal columns \n",
    "def label_encoder(df, ordinal_cats):\n",
    "    for col in ordinal_cats:\n",
    "        df[col] = LabelEncoder().fit_transform(df[col])\n",
    "    return df\n",
    "\n",
    "def one_hot_encoder(df, nominal_cats):\n",
    "    OHE = OneHotEncoder(sparse_output = False, drop = 'first')\n",
    "    one_hot_encoded = OHE.fit_transform(df[nominal_cats])\n",
    "\n",
    "    OHE_df = pd.DataFrame(one_hot_encoded, columns = OHE.get_feature_names_out(nominal_cats))\n",
    "    \n",
    "    df = df.drop(columns = nominal_cats)\n",
    "    df = pd.concat([df, OHE_df], axis=1)\n",
    "    return df\n",
    "\n",
    "data = label_encoder(data, ordinal_cats)\n",
    "\n",
    "# Transform nominal features\n",
    "data = one_hot_encoder(data, nominal_cats)\n",
    "\n",
    "print(\"Transformed DataFrame:\")\n",
    "print(data.head())\n",
    "\n",
    "# سيرشك الجميل بقي وشوف كل واحد بيطلع ايه وازاي هتلم الداتا بتاعتك معلش هتعبك معانا يا جميل "
   ]
  },
  {
   "cell_type": "markdown",
   "id": "37f2ab8f",
   "metadata": {},
   "source": [
    "# Transform Numerical features \n",
    "> I want you to apply only Min-Max Scaling for all numerical columns"
   ]
  },
  {
   "cell_type": "code",
   "execution_count": 238,
   "id": "eacb75b5",
   "metadata": {
    "ExecuteTime": {
     "end_time": "2025-02-23T01:18:48.369240600Z",
     "start_time": "2025-02-23T01:18:48.334583300Z"
    }
   },
   "outputs": [
    {
     "name": "stdout",
     "output_type": "stream",
     "text": [
      "         Id  MSSubClass  LotFrontage   LotArea  LotShape  OverallQual  \\\n",
      "0  0.000000    0.483003     0.413268  0.366271       1.0     0.666667   \n",
      "1  0.000685    0.000000     0.490307  0.391245       1.0     0.555556   \n",
      "2  0.001371    0.483003     0.429990  0.422289       0.0     0.666667   \n",
      "3  0.002056    0.551764     0.383633  0.390223       0.0     0.666667   \n",
      "4  0.002742    0.483003     0.508439  0.468694       0.0     0.777778   \n",
      "\n",
      "   OverallCond  YearBuilt  YearRemodAdd MasVnrType  ...  Neighborhood_SawyerW  \\\n",
      "0        0.500   0.949275      0.883333    BrkFace  ...                   0.0   \n",
      "1        0.875   0.753623      0.433333        NaN  ...                   0.0   \n",
      "2        0.500   0.934783      0.866667    BrkFace  ...                   0.0   \n",
      "3        0.500   0.311594      0.333333        NaN  ...                   0.0   \n",
      "4        0.500   0.927536      0.833333    BrkFace  ...                   0.0   \n",
      "\n",
      "   Neighborhood_Somerst  Neighborhood_StoneBr  Neighborhood_Timber  \\\n",
      "0                   0.0                   0.0                  0.0   \n",
      "1                   0.0                   0.0                  0.0   \n",
      "2                   0.0                   0.0                  0.0   \n",
      "3                   0.0                   0.0                  0.0   \n",
      "4                   0.0                   0.0                  0.0   \n",
      "\n",
      "   Neighborhood_Veenker  FireplaceQu_Fa  FireplaceQu_Gd  FireplaceQu_Po  \\\n",
      "0                   0.0             0.0             0.0             0.0   \n",
      "1                   1.0             0.0             0.0             0.0   \n",
      "2                   0.0             0.0             0.0             0.0   \n",
      "3                   0.0             0.0             1.0             0.0   \n",
      "4                   0.0             0.0             0.0             0.0   \n",
      "\n",
      "   FireplaceQu_TA  FireplaceQu_nan  \n",
      "0             0.0              1.0  \n",
      "1             1.0              0.0  \n",
      "2             1.0              0.0  \n",
      "3             0.0              0.0  \n",
      "4             1.0              0.0  \n",
      "\n",
      "[5 rows x 125 columns]\n"
     ]
    }
   ],
   "source": [
    "from sklearn.preprocessing import MinMaxScaler\n",
    "\n",
    "# write code here \n",
    "def minmax_scaler(df):\n",
    "    numerical_cols = df.select_dtypes(include=['int64', 'float64']).columns\n",
    "\n",
    "    scaler = MinMaxScaler()\n",
    "    df[numerical_cols] = scaler.fit_transform(df[numerical_cols])\n",
    "\n",
    "    return df\n",
    "\n",
    "scaled_data = minmax_scaler(data)\n",
    "print(scaled_data.head())"
   ]
  },
  {
   "cell_type": "code",
   "execution_count": 239,
   "id": "9b91f0da",
   "metadata": {
    "ExecuteTime": {
     "end_time": "2025-02-23T01:18:52.264575300Z",
     "start_time": "2025-02-23T01:18:52.240658100Z"
    }
   },
   "outputs": [
    {
     "data": {
      "text/plain": "         Id  MSSubClass  LotFrontage   LotArea  LotShape  OverallQual  \\\n0  0.000000    0.483003     0.413268  0.366271       1.0     0.666667   \n1  0.000685    0.000000     0.490307  0.391245       1.0     0.555556   \n2  0.001371    0.483003     0.429990  0.422289       0.0     0.666667   \n3  0.002056    0.551764     0.383633  0.390223       0.0     0.666667   \n4  0.002742    0.483003     0.508439  0.468694       0.0     0.777778   \n\n   OverallCond  YearBuilt  YearRemodAdd MasVnrType  ...  Neighborhood_SawyerW  \\\n0        0.500   0.949275      0.883333    BrkFace  ...                   0.0   \n1        0.875   0.753623      0.433333        NaN  ...                   0.0   \n2        0.500   0.934783      0.866667    BrkFace  ...                   0.0   \n3        0.500   0.311594      0.333333        NaN  ...                   0.0   \n4        0.500   0.927536      0.833333    BrkFace  ...                   0.0   \n\n   Neighborhood_Somerst  Neighborhood_StoneBr  Neighborhood_Timber  \\\n0                   0.0                   0.0                  0.0   \n1                   0.0                   0.0                  0.0   \n2                   0.0                   0.0                  0.0   \n3                   0.0                   0.0                  0.0   \n4                   0.0                   0.0                  0.0   \n\n   Neighborhood_Veenker  FireplaceQu_Fa  FireplaceQu_Gd  FireplaceQu_Po  \\\n0                   0.0             0.0             0.0             0.0   \n1                   1.0             0.0             0.0             0.0   \n2                   0.0             0.0             0.0             0.0   \n3                   0.0             0.0             1.0             0.0   \n4                   0.0             0.0             0.0             0.0   \n\n   FireplaceQu_TA  FireplaceQu_nan  \n0             0.0              1.0  \n1             1.0              0.0  \n2             1.0              0.0  \n3             0.0              0.0  \n4             1.0              0.0  \n\n[5 rows x 125 columns]",
      "text/html": "<div>\n<style scoped>\n    .dataframe tbody tr th:only-of-type {\n        vertical-align: middle;\n    }\n\n    .dataframe tbody tr th {\n        vertical-align: top;\n    }\n\n    .dataframe thead th {\n        text-align: right;\n    }\n</style>\n<table border=\"1\" class=\"dataframe\">\n  <thead>\n    <tr style=\"text-align: right;\">\n      <th></th>\n      <th>Id</th>\n      <th>MSSubClass</th>\n      <th>LotFrontage</th>\n      <th>LotArea</th>\n      <th>LotShape</th>\n      <th>OverallQual</th>\n      <th>OverallCond</th>\n      <th>YearBuilt</th>\n      <th>YearRemodAdd</th>\n      <th>MasVnrType</th>\n      <th>...</th>\n      <th>Neighborhood_SawyerW</th>\n      <th>Neighborhood_Somerst</th>\n      <th>Neighborhood_StoneBr</th>\n      <th>Neighborhood_Timber</th>\n      <th>Neighborhood_Veenker</th>\n      <th>FireplaceQu_Fa</th>\n      <th>FireplaceQu_Gd</th>\n      <th>FireplaceQu_Po</th>\n      <th>FireplaceQu_TA</th>\n      <th>FireplaceQu_nan</th>\n    </tr>\n  </thead>\n  <tbody>\n    <tr>\n      <th>0</th>\n      <td>0.000000</td>\n      <td>0.483003</td>\n      <td>0.413268</td>\n      <td>0.366271</td>\n      <td>1.0</td>\n      <td>0.666667</td>\n      <td>0.500</td>\n      <td>0.949275</td>\n      <td>0.883333</td>\n      <td>BrkFace</td>\n      <td>...</td>\n      <td>0.0</td>\n      <td>0.0</td>\n      <td>0.0</td>\n      <td>0.0</td>\n      <td>0.0</td>\n      <td>0.0</td>\n      <td>0.0</td>\n      <td>0.0</td>\n      <td>0.0</td>\n      <td>1.0</td>\n    </tr>\n    <tr>\n      <th>1</th>\n      <td>0.000685</td>\n      <td>0.000000</td>\n      <td>0.490307</td>\n      <td>0.391245</td>\n      <td>1.0</td>\n      <td>0.555556</td>\n      <td>0.875</td>\n      <td>0.753623</td>\n      <td>0.433333</td>\n      <td>NaN</td>\n      <td>...</td>\n      <td>0.0</td>\n      <td>0.0</td>\n      <td>0.0</td>\n      <td>0.0</td>\n      <td>1.0</td>\n      <td>0.0</td>\n      <td>0.0</td>\n      <td>0.0</td>\n      <td>1.0</td>\n      <td>0.0</td>\n    </tr>\n    <tr>\n      <th>2</th>\n      <td>0.001371</td>\n      <td>0.483003</td>\n      <td>0.429990</td>\n      <td>0.422289</td>\n      <td>0.0</td>\n      <td>0.666667</td>\n      <td>0.500</td>\n      <td>0.934783</td>\n      <td>0.866667</td>\n      <td>BrkFace</td>\n      <td>...</td>\n      <td>0.0</td>\n      <td>0.0</td>\n      <td>0.0</td>\n      <td>0.0</td>\n      <td>0.0</td>\n      <td>0.0</td>\n      <td>0.0</td>\n      <td>0.0</td>\n      <td>1.0</td>\n      <td>0.0</td>\n    </tr>\n    <tr>\n      <th>3</th>\n      <td>0.002056</td>\n      <td>0.551764</td>\n      <td>0.383633</td>\n      <td>0.390223</td>\n      <td>0.0</td>\n      <td>0.666667</td>\n      <td>0.500</td>\n      <td>0.311594</td>\n      <td>0.333333</td>\n      <td>NaN</td>\n      <td>...</td>\n      <td>0.0</td>\n      <td>0.0</td>\n      <td>0.0</td>\n      <td>0.0</td>\n      <td>0.0</td>\n      <td>0.0</td>\n      <td>1.0</td>\n      <td>0.0</td>\n      <td>0.0</td>\n      <td>0.0</td>\n    </tr>\n    <tr>\n      <th>4</th>\n      <td>0.002742</td>\n      <td>0.483003</td>\n      <td>0.508439</td>\n      <td>0.468694</td>\n      <td>0.0</td>\n      <td>0.777778</td>\n      <td>0.500</td>\n      <td>0.927536</td>\n      <td>0.833333</td>\n      <td>BrkFace</td>\n      <td>...</td>\n      <td>0.0</td>\n      <td>0.0</td>\n      <td>0.0</td>\n      <td>0.0</td>\n      <td>0.0</td>\n      <td>0.0</td>\n      <td>0.0</td>\n      <td>0.0</td>\n      <td>1.0</td>\n      <td>0.0</td>\n    </tr>\n  </tbody>\n</table>\n<p>5 rows × 125 columns</p>\n</div>"
     },
     "execution_count": 239,
     "metadata": {},
     "output_type": "execute_result"
    }
   ],
   "source": [
    "# print Your final data frame here \n",
    "data.head()"
   ]
  },
  {
   "cell_type": "markdown",
   "id": "2a11dfe1",
   "metadata": {},
   "source": [
    "## End \n",
    "## لو وصلت لهنا بالسلامه تبقي تنين وتاخد 5 بونص و5 كمان لو كان حلك كله تمام "
   ]
  },
  {
   "cell_type": "code",
   "outputs": [],
   "source": [],
   "metadata": {
    "collapsed": false
   },
   "id": "b0c097d655bd6474"
  }
 ],
 "metadata": {
  "kernelspec": {
   "display_name": "Python 3 (ipykernel)",
   "language": "python",
   "name": "python3"
  },
  "language_info": {
   "codemirror_mode": {
    "name": "ipython",
    "version": 3
   },
   "file_extension": ".py",
   "mimetype": "text/x-python",
   "name": "python",
   "nbconvert_exporter": "python",
   "pygments_lexer": "ipython3",
   "version": "3.11.5"
  }
 },
 "nbformat": 4,
 "nbformat_minor": 5
}
