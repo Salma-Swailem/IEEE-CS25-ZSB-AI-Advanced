{
 "cells": [
  {
   "cell_type": "markdown",
   "metadata": {},
   "source": [
    "# Linear Regression Using Gradient Descent\n",
    "\n",
    "## Problem Statement\n",
    "\n",
    "We need to implement a Python function that performs linear regression using gradient descent. The function should take the following inputs:\n",
    "\n",
    "- `X`: A NumPy array representing the feature matrix with a column of ones for the intercept.\n",
    "- `y`: A NumPy array representing the target values.\n",
    "- `alpha`: The learning rate for gradient descent.\n",
    "- `iterations`: The number of iterations to perform gradient descent.\n",
    "\n",
    "The function should return the coefficients of the linear regression model as a NumPy array, rounded to four decimal places.\n",
    "\n",
    "## Example\n",
    "\n",
    "**Input:**\n",
    "```python\n",
    "import numpy as np\n",
    "\n",
    "X = np.array([[1, 1], [1, 2], [1, 3]])\n",
    "y = np.array([1, 2, 3])\n",
    "alpha = 0.01\n",
    "iterations = 1000\n",
    "```\n",
    "\n",
    "**Output:**\n",
    "```python\n",
    "np.array([0.1107, 0.9513])"
   ]
  },
  {
   "cell_type": "code",
   "execution_count": 3,
   "metadata": {
    "ExecuteTime": {
     "end_time": "2025-02-23T07:32:22.002663Z",
     "start_time": "2025-02-23T07:32:21.842157500Z"
    }
   },
   "outputs": [
    {
     "name": "stdout",
     "output_type": "stream",
     "text": [
      "[0.1107 0.9513]\n"
     ]
    }
   ],
   "source": [
    "import numpy as np\n",
    "def linear_regression_gradient_descent(X: np.ndarray, y: np.ndarray, alpha: float, iterations: int) -> np.ndarray:\n",
    "\n",
    "\tm, n = X.shape\n",
    "\ttheta = np.zeros((n, 1))\n",
    "\n",
    "    # Your code here\n",
    "\t\n",
    "\tfor _ in range(iterations):\n",
    "\t\tgradient = (1/m) * X.T @ (X @ theta - y.reshape(-1, 1))\n",
    "\t\ttheta -= alpha * gradient\n",
    "\n",
    "\n",
    "\treturn np.round(theta.flatten(), 4)\n",
    "\n",
    "X = np.array([[1, 1], [1, 2], [1, 3]])\n",
    "y = np.array([1, 2, 3])\n",
    "alpha = 0.01\n",
    "iterations = 1000\n",
    "\n",
    "theta = linear_regression_gradient_descent(X, y, alpha, iterations)\n",
    "print(theta)"
   ]
  },
  {
   "cell_type": "code",
   "outputs": [],
   "source": [],
   "metadata": {
    "collapsed": false
   }
  }
 ],
 "metadata": {
  "language_info": {
   "name": "python"
  },
  "kernelspec": {
   "name": "python3",
   "language": "python",
   "display_name": "Python 3 (ipykernel)"
  }
 },
 "nbformat": 4,
 "nbformat_minor": 2
}
