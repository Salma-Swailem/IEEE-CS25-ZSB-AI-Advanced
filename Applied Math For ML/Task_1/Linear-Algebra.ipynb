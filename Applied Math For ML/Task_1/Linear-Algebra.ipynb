{
 "cells": [
  {
   "cell_type": "markdown",
   "metadata": {},
   "source": [
    "**By:** *Ahmed Sharaf*"
   ]
  },
  {
   "cell_type": "markdown",
   "metadata": {},
   "source": [
    "In this notebook you will practice how to:\n",
    "1. Calculate the determinant of a 2x2 matrix with and without using numpy.linalg\n",
    "2. Calculate the determinant of a 3x3 matrix with and without using numpy.linalg\n",
    "3. Calculate the inverse of a 2x2 matrix using numpy.linalg\n",
    "4. Calculate the inverse of a 3x3 matrix using numpy.linalg\n",
    "5. Finding the rank of a matrix using numpy"
   ]
  },
  {
   "cell_type": "markdown",
   "source": [
    "### Notice\n",
    "\n",
    "**Please Note:**  \n",
    "When writing code, make sure to place it in the designated area marked with `# code here`.  \n",
    "If there is a `pass` keyword in the code, please remove it and replace it with the required code."
   ],
   "metadata": {}
  },
  {
   "cell_type": "markdown",
   "source": [
    "# Calculating the determinant using numpy.linalg"
   ],
   "metadata": {}
  },
  {
   "cell_type": "code",
   "outputs": [],
   "source": [
    "import numpy as np"
   ],
   "metadata": {
    "ExecuteTime": {
     "end_time": "2025-02-10T22:10:51.658471700Z",
     "start_time": "2025-02-10T22:10:51.650754900Z"
    }
   },
   "execution_count": 40
  },
  {
   "cell_type": "code",
   "execution_count": 41,
   "metadata": {
    "ExecuteTime": {
     "end_time": "2025-02-10T22:10:52.142099Z",
     "start_time": "2025-02-10T22:10:52.136478Z"
    }
   },
   "outputs": [
    {
     "name": "stdout",
     "output_type": "stream",
     "text": [
      "[[1 2]\n",
      " [3 4]]\n"
     ]
    }
   ],
   "source": [
    "a2 = np.array([[1,2],[3,4]])\n",
    "print(a2)"
   ]
  },
  {
   "cell_type": "code",
   "execution_count": 42,
   "metadata": {
    "ExecuteTime": {
     "end_time": "2025-02-10T22:10:52.577775100Z",
     "start_time": "2025-02-10T22:10:52.571516100Z"
    }
   },
   "outputs": [
    {
     "name": "stdout",
     "output_type": "stream",
     "text": [
      "[[ 1  1  2]\n",
      " [ 2  3  1]\n",
      " [ 3  4 -5]]\n"
     ]
    }
   ],
   "source": [
    "a3 = np.array([[1,1,2],[2,3,1],[3,4,-5]])\n",
    "print(a3)"
   ]
  },
  {
   "cell_type": "code",
   "execution_count": 43,
   "metadata": {
    "ExecuteTime": {
     "end_time": "2025-02-10T22:10:53.017297300Z",
     "start_time": "2025-02-10T22:10:53.009657900Z"
    }
   },
   "outputs": [
    {
     "name": "stdout",
     "output_type": "stream",
     "text": [
      "-2.0000000000000004\n",
      "-7.999999999999998\n"
     ]
    }
   ],
   "source": [
    "## Determinate of a2, a3\n",
    "det_a2 = np.linalg.det(a2)\n",
    "print(det_a2)\n",
    "det_a3 = np.linalg.det(a3)\n",
    "print(det_a3)"
   ]
  },
  {
   "cell_type": "markdown",
   "metadata": {},
   "source": [
    "# Calculating the determinant of a 2x2 matrixwithout using numpy"
   ]
  },
  {
   "cell_type": "code",
   "execution_count": 44,
   "metadata": {
    "ExecuteTime": {
     "end_time": "2025-02-10T22:10:53.920590100Z",
     "start_time": "2025-02-10T22:10:53.915283700Z"
    }
   },
   "outputs": [
    {
     "name": "stdout",
     "output_type": "stream",
     "text": [
      "-2\n"
     ]
    }
   ],
   "source": [
    "def Det2(Mat):\n",
    "    if len(Mat) != 2 or len(Mat[0]) != 2:\n",
    "        raise ValueError(\"Input matrix should be 2x2\")\n",
    "    else:\n",
    "        det = (Mat[0][0] * Mat[1][1]) - (Mat[0][1] * Mat[1][0])\n",
    "        return det\n",
    "\n",
    "\n",
    "print(Det2(a2))"
   ]
  },
  {
   "cell_type": "markdown",
   "metadata": {},
   "source": [
    "# Calculating the determinant of a 3x3 matrixwithout using numpy\n",
    "\n",
    "One idea\n",
    "1. write a function to calculate the minor matrices. (hint, use slices)\n",
    "2. write a function to calculate the cofactors (this should call the first function, and the determinant function)\n",
    "3. the determinant function calls the function in step two and adds the results together.\n",
    "\n",
    "Another idea \n",
    "use recursion ==> code credit https://stackoverflow.com/questions/3819500/code-to-solve-determinant-using-python-without-using-scipy-linalg-det"
   ]
  },
  {
   "cell_type": "code",
   "execution_count": 45,
   "metadata": {
    "ExecuteTime": {
     "end_time": "2025-02-10T22:10:54.841948300Z",
     "start_time": "2025-02-10T22:10:54.827552100Z"
    }
   },
   "outputs": [
    {
     "name": "stdout",
     "output_type": "stream",
     "text": [
      "[[ 1  2  3  4]\n",
      " [ 5  6  7  8]\n",
      " [ 9 10 11 12]]\n",
      "[[ 1  2  3  4]\n",
      " [ 9 10 11 12]]\n",
      "[[ 1  2  3]\n",
      " [ 5  6  7]\n",
      " [ 9 10 11]]\n",
      "[[ 1  2  3  4]\n",
      " [ 5  6  7  8]\n",
      " [ 9 10 11 12]]\n"
     ]
    }
   ],
   "source": [
    "# delete function removes a sub-array from the input array\n",
    "# first argument is the original array\n",
    "# second argument is the index to the sub-array to be removed\n",
    "# third argument is the axis among which the deletion happens (0: x axis \"row\" and 1: y axis \"column\")\n",
    "arr = np.array([[1,2,3,4], [5,6,7,8], [9,10,11,12]])\n",
    "print(arr)\n",
    "\n",
    "arr2 = np.delete(arr, 1, 0)\n",
    "print(arr2)\n",
    "\n",
    "arr3 = np.delete(arr, 3, 1)\n",
    "print(arr3)\n",
    "print(arr)"
   ]
  },
  {
   "cell_type": "code",
   "execution_count": 51,
   "metadata": {
    "ExecuteTime": {
     "end_time": "2025-02-10T22:16:05.818929300Z",
     "start_time": "2025-02-10T22:16:05.794467200Z"
    }
   },
   "outputs": [
    {
     "name": "stdout",
     "output_type": "stream",
     "text": [
      "[[ 1  1  2]\n",
      " [ 2  3  1]\n",
      " [ 3  4 -5]]\n",
      "-8\n"
     ]
    }
   ],
   "source": [
    "def minor(arr,i,j):\n",
    "    return np.delete(np.delete(arr, i, 0), j, 1)\n",
    "\n",
    "\n",
    "def det(arr):\n",
    "    n = len(arr)\n",
    "    if n == 2:\n",
    "        return arr[0, 0] * arr[1, 1] - arr[0, 1] * arr[1, 0]\n",
    "    \n",
    "    d = 0\n",
    "    for j in range(n):\n",
    "        c = (-1) ** j * arr[0, j] * det(minor(arr, 0, j))\n",
    "        d += c\n",
    "    \n",
    "    return d\n",
    "    \n",
    "print(a3)\n",
    "print(det(a3))"
   ]
  },
  {
   "cell_type": "markdown",
   "metadata": {},
   "source": [
    "# Calculating the inverse using numpy.linalg"
   ]
  },
  {
   "cell_type": "code",
   "execution_count": 54,
   "metadata": {
    "ExecuteTime": {
     "end_time": "2025-02-10T22:23:34.056965400Z",
     "start_time": "2025-02-10T22:23:34.044948100Z"
    }
   },
   "outputs": [
    {
     "name": "stdout",
     "output_type": "stream",
     "text": [
      "[[1 2]\n",
      " [3 4]]\n",
      "-2.0000000000000004\n",
      "[[-2.   1. ]\n",
      " [ 1.5 -0.5]]\n"
     ]
    }
   ],
   "source": [
    "# The inverse of 2 x 2 matrix\n",
    "\n",
    "a2 = np.array([[1,2],[3,4]])\n",
    "\n",
    "print(a2)\n",
    "\n",
    "print(np.linalg.det(a2))\n",
    "print(np.linalg.inv(a2))"
   ]
  },
  {
   "cell_type": "code",
   "execution_count": 63,
   "metadata": {
    "ExecuteTime": {
     "end_time": "2025-02-10T22:25:20.259598200Z",
     "start_time": "2025-02-10T22:25:20.234917800Z"
    }
   },
   "outputs": [
    {
     "name": "stdout",
     "output_type": "stream",
     "text": [
      "[[1 2]\n",
      " [2 4]]\n",
      "0.0\n"
     ]
    },
    {
     "ename": "ValueError",
     "evalue": "Singular Matrix cannot be Inverted",
     "output_type": "error",
     "traceback": [
      "\u001B[1;31m---------------------------------------------------------------------------\u001B[0m",
      "\u001B[1;31mValueError\u001B[0m                                Traceback (most recent call last)",
      "Cell \u001B[1;32mIn[63], line 9\u001B[0m\n\u001B[0;32m      7\u001B[0m \u001B[38;5;28mprint\u001B[39m(det)\n\u001B[0;32m      8\u001B[0m \u001B[38;5;28;01mif\u001B[39;00m \u001B[38;5;28mint\u001B[39m(det) \u001B[38;5;241m==\u001B[39m \u001B[38;5;241m0.0\u001B[39m :\n\u001B[1;32m----> 9\u001B[0m     \u001B[38;5;28;01mraise\u001B[39;00m \u001B[38;5;167;01mValueError\u001B[39;00m(\u001B[38;5;124m\"\u001B[39m\u001B[38;5;124mSingular Matrix cannot be Inverted\u001B[39m\u001B[38;5;124m\"\u001B[39m)\n\u001B[0;32m     10\u001B[0m \u001B[38;5;28;01melse\u001B[39;00m:\n\u001B[0;32m     11\u001B[0m     \u001B[38;5;28mprint\u001B[39m(np\u001B[38;5;241m.\u001B[39mlinalg\u001B[38;5;241m.\u001B[39minv(a3))\n",
      "\u001B[1;31mValueError\u001B[0m: Singular Matrix cannot be Inverted"
     ]
    }
   ],
   "source": [
    "# The inverse of a singular matrix\n",
    "\n",
    "a3 = np.array([[1,2],[2,4]])\n",
    "\n",
    "print(a3)\n",
    "det = np.linalg.det(a3)\n",
    "print(det)\n",
    "if int(det) == 0.0 :\n",
    "    raise ValueError(\"Singular Matrix cannot be Inverted\")\n",
    "else:\n",
    "    print(np.linalg.inv(a3))"
   ]
  },
  {
   "cell_type": "code",
   "execution_count": 64,
   "metadata": {
    "ExecuteTime": {
     "end_time": "2025-02-10T22:26:06.798929200Z",
     "start_time": "2025-02-10T22:26:06.785250100Z"
    }
   },
   "outputs": [
    {
     "name": "stdout",
     "output_type": "stream",
     "text": [
      "-306.0\n",
      "[[ 0.17647059 -0.00326797 -0.02287582]\n",
      " [ 0.05882353 -0.13071895  0.08496732]\n",
      " [-0.11764706  0.1503268   0.05228758]]\n"
     ]
    }
   ],
   "source": [
    "# The inverse of 3 x 3 matrix\n",
    "\n",
    "A = np.array([[6, 1, 1],\n",
    "              [4, -2, 5],\n",
    "              [2, 8, 7]])\n",
    "  \n",
    "# Calculating the inverse of the matrix\n",
    "print(np.linalg.det(A))\n",
    "print(np.linalg.inv(A))"
   ]
  },
  {
   "cell_type": "code",
   "execution_count": 65,
   "metadata": {
    "scrolled": true,
    "ExecuteTime": {
     "end_time": "2025-02-10T22:26:38.589022600Z",
     "start_time": "2025-02-10T22:26:38.576902400Z"
    }
   },
   "outputs": [
    {
     "name": "stdout",
     "output_type": "stream",
     "text": [
      "[-2. -4.]\n",
      "[[[-2.    1.  ]\n",
      "  [ 1.5  -0.5 ]]\n",
      "\n",
      " [[-1.25  0.75]\n",
      "  [ 0.75 -0.25]]]\n"
     ]
    }
   ],
   "source": [
    "# Inverses of several matrices can\n",
    "# be computed at once\n",
    "\n",
    "A = np.array([[[1., 2.], \n",
    "               [3., 4.]],\n",
    "              [[1, 3], \n",
    "               [3, 5]]])\n",
    "  \n",
    "# Calculating the inverse of the matrix\n",
    "print(np.linalg.det(A))\n",
    "print(np.linalg.inv(A))"
   ]
  },
  {
   "cell_type": "markdown",
   "metadata": {},
   "source": [
    "# Calculating the inverse of a 2x2 matrixwithout using numpy"
   ]
  },
  {
   "cell_type": "markdown",
   "metadata": {},
   "source": [
    "1. Code a function to calculate the determinant of 2x2 matrix\n",
    "2. Code a function that interchange the diagonal elements of a 2x2 matrix and inverse the sign of the off diagonal elements\n",
    "3. Code a function to compute the inverse of 2x2 matrix based on the two previous functions if it exists"
   ]
  },
  {
   "cell_type": "code",
   "execution_count": 72,
   "metadata": {
    "ExecuteTime": {
     "end_time": "2025-02-10T22:43:15.331297900Z",
     "start_time": "2025-02-10T22:43:15.323453800Z"
    }
   },
   "outputs": [
    {
     "name": "stdout",
     "output_type": "stream",
     "text": [
      "[[-2.   1. ]\n",
      " [ 1.5 -0.5]]\n"
     ]
    }
   ],
   "source": [
    "#step -1- we already coded the det function that works for 2x2 and nxn size matrix\n",
    "def det(arr):\n",
    "    n = len(arr)\n",
    "    if n == 2:\n",
    "        return arr[0, 0] * arr[1, 1] - arr[0, 1] * arr[1, 0]\n",
    "    \n",
    "    d = 0\n",
    "    for j in range(n):\n",
    "        c = (-1) ** j * arr[0, j] * det(minor(arr, 0, j))\n",
    "        d += c\n",
    "    \n",
    "    return d\n",
    "\n",
    "\n",
    "#step -2-\n",
    "def interchangeMatrix(A):\n",
    "   A[0, 0], A[1, 1] = A[1, 1], A[0, 0]\n",
    "   \n",
    "   A[0, 1] = -A[0, 1]\n",
    "   A[1, 0] = -A[1, 0]\n",
    "   \n",
    "   return A\n",
    "\n",
    "\n",
    "#step -3-\n",
    "def inverse2x2(A):\n",
    "    return 1/det(A) * interchangeMatrix(A)\n",
    "\n",
    "a2 = np.array([[1,2],[3,4]])\n",
    "print(inverse2x2(a2))"
   ]
  },
  {
   "cell_type": "markdown",
   "metadata": {},
   "source": [
    "# Calculating the inverse of a 3x3 matrixwithout using numpy"
   ]
  },
  {
   "cell_type": "markdown",
   "metadata": {},
   "source": [
    "# Use the adjoint matrix method\n",
    "\n",
    "Coding a Python code to inverse a 3x3 matrix (no numpy.linalg.inv allowed):\n",
    "1. Coding a function that checks if a 3x3 matrix is invertible\n",
    "2. Coding a function that generates the transpose of a 3x3 matrix\n",
    "3. Coding a function that generates the matrix of minors of a 3x3 matrix\n",
    "4. Coding a function that generates the matrix of cofactors of a 3x3 matrix\n",
    "5. Coding a function that generates the inverse of a 3x3 matrix if it exists\n"
   ]
  },
  {
   "cell_type": "code",
   "execution_count": 76,
   "metadata": {
    "ExecuteTime": {
     "end_time": "2025-02-10T23:00:52.224795Z",
     "start_time": "2025-02-10T23:00:52.215419400Z"
    }
   },
   "outputs": [
    {
     "name": "stdout",
     "output_type": "stream",
     "text": [
      "[[ 0.17647059 -0.00326797 -0.02287582]\n",
      " [ 0.05882353 -0.13071895  0.08496732]\n",
      " [-0.11764706  0.1503268   0.05228758]]\n",
      "[[ 0.17647059 -0.00326797 -0.02287582]\n",
      " [ 0.05882353 -0.13071895  0.08496732]\n",
      " [-0.11764706  0.1503268   0.05228758]]\n"
     ]
    }
   ],
   "source": [
    "#step -1- a matrix is invertible only if its determinant != 0\n",
    "def invertible(A):\n",
    "    return det(A) != 0\n",
    "\n",
    "#step -2- rows and columns could be interchanged without the need of built-in methods\n",
    "def transposeM(A):\n",
    "    return np.array([[A[j, i] for j in range(len(A))] for i in range(len(A[0]))])\n",
    "\n",
    "#step -3- we coded that previously minor(arr,i,j)\n",
    "def minor(arr,i,j):\n",
    "    return np.delete(np.delete(arr, i, 0), j, 1)\n",
    "\n",
    "#step -4- Calculating the matrix of cofactors (minors determinants multiplied by signs)\n",
    "def cofactors(A):\n",
    "    n = len(A)\n",
    "    cofactor_matrix = np.zeros((n, n))\n",
    "    for i in range(n):\n",
    "        for j in range(n):\n",
    "            minor_matrix = minor(A, i, j)\n",
    "            cofactor_matrix[i, j] = ((-1) ** (i + j)) * det(minor_matrix)\n",
    "    return cofactor_matrix\n",
    "\n",
    "\n",
    "#step -5- Inverse is the transpose of the cofactor matrix divided by the determinant of the original/input matrix\n",
    "def inverse3x3(A):\n",
    "    if not invertible(A):\n",
    "        raise ValueError(\"Matrix not invertible det = 0\")\n",
    "    \n",
    "    cofactor_m = cofactors(A)\n",
    "    \n",
    "    adj_m = transposeM(cofactor_m)\n",
    "    \n",
    "    inverse_m = adj_m / det(A)\n",
    "    \n",
    "    return inverse_m\n",
    "\n",
    "\n",
    "B = np.array([[6, 1, 1],\n",
    "              [4, -2, 5],\n",
    "              [2, 8, 7]])\n",
    "\n",
    "print(inverse3x3(B))\n",
    "\n",
    "#[ 0.17647059 -0.00326797 -0.02287582]\n",
    "# [ 0.05882353 -0.13071895  0.08496732]\n",
    "# [-0.11764706  0.1503268   0.05228758]]\n",
    "#check\n",
    "print(np.linalg.inv(B))"
   ]
  },
  {
   "cell_type": "markdown",
   "metadata": {},
   "source": [
    "# Finding the rank of a matrix using numpy"
   ]
  },
  {
   "cell_type": "code",
   "execution_count": 78,
   "metadata": {
    "ExecuteTime": {
     "end_time": "2025-02-10T23:02:00.430803900Z",
     "start_time": "2025-02-10T23:02:00.412460600Z"
    }
   },
   "outputs": [
    {
     "name": "stdout",
     "output_type": "stream",
     "text": [
      "1\n"
     ]
    }
   ],
   "source": [
    "a3 = np.array([[1,2],[2,4]])\n",
    "\n",
    "print(np.linalg.matrix_rank(a3))"
   ]
  },
  {
   "cell_type": "code",
   "outputs": [],
   "source": [],
   "metadata": {
    "collapsed": false
   }
  }
 ],
 "metadata": {
  "kernelspec": {
   "display_name": "base",
   "language": "python",
   "name": "python3"
  },
  "language_info": {
   "codemirror_mode": {
    "name": "ipython",
    "version": 3
   },
   "file_extension": ".py",
   "mimetype": "text/x-python",
   "name": "python",
   "nbconvert_exporter": "python",
   "pygments_lexer": "ipython3",
   "version": "3.12.7"
  }
 },
 "nbformat": 4,
 "nbformat_minor": 4
}
